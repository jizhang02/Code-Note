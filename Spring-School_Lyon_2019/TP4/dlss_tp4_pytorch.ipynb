{
 "cells": [
  {
   "cell_type": "markdown",
   "metadata": {},
   "source": [
    "**Hands-on 4 – Comparing TensorFlow/Keras and PyTorch**"
   ]
  },
  {
   "cell_type": "markdown",
   "metadata": {},
   "source": [
    "_This hands-on was created by Thomas Grenier (TensorFlow) and Fabien Millioz (PyTorch), CREATIS, [deepimaging2019](https://deepimaging2019.sciencesconf.org/)_\n",
    "\n",
    "thomas.grenier@creatis.insa-lyon.fr\n",
    "fabien.millioz@creatis.insa-lyon.fr\n"
   ]
  },
  {
   "cell_type": "markdown",
   "metadata": {},
   "source": [
    "# Introduction\n",
    "\n",
    "**This file is dedicated to Pytorch. So be sure to have enabled Pytorch 0.4 (or higher version)**\n",
    "\n",
    "Today, we will compare usages of two well-used deep learning frameworks for DNN: [TensorFlow](https://en.wikipedia.org/wiki/TensorFlow) (Google - 2015) and [PyTorch](https://en.wikipedia.org/wiki/PyTorch) (Facebook - 2016). Many others exist as [MXNet](https://en.wikipedia.org/wiki/MXNet), [Caffe](https://en.wikipedia.org/wiki/Caffe_(software), [Deeplearning4j](https://en.wikipedia.org/wiki/Deeplearning4j), ...\n",
    "\n",
    "Most of these frameworks have low to high level APIs, meaning that you can develop the same network with detailed (low-level) functions to coarse (high-level) functions.\n",
    "\n",
    "Pytorch presents two high-level features, tensor computation and neural networks, with a deep integration into Python.\n",
    "\n",
    "> This practice will start using simple networks in Pytorch and progressively go deeper.\n",
    "\n",
    "\n",
    "By the way, interesting ressources:\n",
    " - https://pytorch.org/tutorials/beginner/deep_learning_60min_blitz.html\n",
    " - https://pytorch.org/docs/stable/index.html\n",
    " \n",
    "**About the data and exercices**\n",
    "\n",
    "This hands-on is computer scientist-oriented more than application-oriented... \n",
    "\n",
    "And so, this practice focuses on a meaningless toy example inspired from the MNIST manuscript numbers classification challenge that is considered as the 'hello world' example for neural networks.\n",
    "\n",
    "Here, we have to recognize wether a brain slice image is axial, sagittal or coronal and comes from MRI T1w, MRI T2w or CT modality. So, there are 9 classes as summarized here:\n",
    "\n",
    "![Figure 1](./images_TP4/Figure1_SagittalAxialCoronal_small.png)\n",
    "\n",
    "> Let's go!"
   ]
  },
  {
   "cell_type": "markdown",
   "metadata": {},
   "source": [
    "# A - Setup"
   ]
  },
  {
   "cell_type": "markdown",
   "metadata": {},
   "source": [
    "### A1 - First, import a few common modules, ensure MatplotLib plots figures inline and prepare a function to display the figures:"
   ]
  },
  {
   "cell_type": "code",
   "execution_count": 1,
   "metadata": {
    "collapsed": true
   },
   "outputs": [],
   "source": [
    "# install some packages (image reading/processing, graph/image display)\n",
    "#!pip3 install pillow matplotlib pydot graphviz --user\n",
    "\n",
    "# Common imports\n",
    "import numpy as np\n",
    "from PIL import Image\n",
    "import os\n",
    "\n",
    "# To plot pretty figures\n",
    "%matplotlib inline\n",
    "import matplotlib\n",
    "import matplotlib.pyplot as plt\n",
    "plt.rcParams['axes.labelsize']  = 14\n",
    "plt.rcParams['xtick.labelsize'] = 12\n",
    "plt.rcParams['ytick.labelsize'] = 12\n",
    "    \n",
    "def plot_image(image):\n",
    "    if torch.is_tensor(image):\n",
    "        image = image.cpu().detach().numpy()\n",
    "    plt.imshow(image, aspect=\"equal\", cmap=\"gray\", interpolation=\"nearest\")\n",
    "    plt.axis(\"off\")"
   ]
  },
  {
   "cell_type": "markdown",
   "metadata": {},
   "source": [
    "### A2 - And of course we import PyTorch"
   ]
  },
  {
   "cell_type": "code",
   "execution_count": 2,
   "metadata": {
    "collapsed": false
   },
   "outputs": [
    {
     "data": {
      "text/plain": [
       "'0.4.1'"
      ]
     },
     "execution_count": 2,
     "metadata": {},
     "output_type": "execute_result"
    }
   ],
   "source": [
    "import torch\n",
    "torch.__version__"
   ]
  },
  {
   "cell_type": "markdown",
   "metadata": {},
   "source": [
    "> _**if no error occurs, your working environment is ok and you can go to next part,\n",
    "> else ... call an assistant for help!**_ "
   ]
  },
  {
   "cell_type": "markdown",
   "metadata": {},
   "source": [
    "## B - How does PyTorch work? THIS PART CAN BE SKIPPED\n",
    "This section presents PyTorch and how it works.\n",
    "This part is for users who would like to understand the low-level functionalities in PyTorch on which neural networks rely.\n",
    "\n",
    "We start with a simple example where automatic differentiation is used, then we program a step-by-step classical gradient descent.\n",
    "\n",
    "PyTorch works with tensors…"
   ]
  },
  {
   "cell_type": "code",
   "execution_count": 3,
   "metadata": {
    "collapsed": false
   },
   "outputs": [
    {
     "name": "stdout",
     "output_type": "stream",
     "text": [
      "tensor([[0.1930, 0.8929],\n",
      "        [0.6046, 0.9226]])\n"
     ]
    }
   ],
   "source": [
    "#Here is a PyTorch tensor \n",
    "a = torch.rand((2,2))\n",
    "print(a)"
   ]
  },
  {
   "cell_type": "markdown",
   "metadata": {},
   "source": [
    "… which are numpy arrays…"
   ]
  },
  {
   "cell_type": "code",
   "execution_count": 4,
   "metadata": {
    "collapsed": false
   },
   "outputs": [
    {
     "name": "stdout",
     "output_type": "stream",
     "text": [
      "[[0.19295597 0.8928736 ]\n",
      " [0.6045514  0.9225962 ]]\n"
     ]
    }
   ],
   "source": [
    "print(a.numpy())"
   ]
  },
  {
   "cell_type": "markdown",
   "metadata": {},
   "source": [
    "… with automatic differentiation!\n",
    "\n",
    "We can calculate the gradients of the function $c(a) = (3a+2)^2$"
   ]
  },
  {
   "cell_type": "code",
   "execution_count": 5,
   "metadata": {
    "collapsed": false
   },
   "outputs": [
    {
     "name": "stdout",
     "output_type": "stream",
     "text": [
      "tensor([[0.1930, 0.8929],\n",
      "        [0.6046, 0.9226]], requires_grad=True)\n",
      "tensor([[14.4272, 25.1062],\n",
      "        [20.3511, 25.6247]], grad_fn=<MulBackward>)\n",
      "tensor(21.3773, grad_fn=<MeanBackward1>)\n"
     ]
    }
   ],
   "source": [
    "a.requires_grad=True\n",
    "print(a)\n",
    "b = 3*(a+2)**2\n",
    "print(b)\n",
    "c = b.mean()\n",
    "print(c)"
   ]
  },
  {
   "cell_type": "markdown",
   "metadata": {},
   "source": [
    "Gradient of $c(a)$ is $\\nabla c(a) = \\frac{3 (a+2)}{2}$.\n",
    "\n",
    "Here we evaluate it automatically from $c$."
   ]
  },
  {
   "cell_type": "code",
   "execution_count": 6,
   "metadata": {
    "collapsed": false
   },
   "outputs": [
    {
     "name": "stdout",
     "output_type": "stream",
     "text": [
      "PyTorch autograd:\n",
      "tensor([[3.2894, 4.3393],\n",
      "        [3.9068, 4.3839]])\n",
      "True gradient:\n",
      "tensor([[3.2894, 4.3393],\n",
      "        [3.9068, 4.3839]], grad_fn=<MulBackward>)\n"
     ]
    }
   ],
   "source": [
    "c.backward()\n",
    "\n",
    "print(\"PyTorch autograd:\")\n",
    "print(a.grad)\n",
    "print(\"True gradient:\")\n",
    "print(3/2*(a+2))"
   ]
  },
  {
   "cell_type": "markdown",
   "metadata": {},
   "source": [
    "Note that the gradients are cumulative:"
   ]
  },
  {
   "cell_type": "code",
   "execution_count": 7,
   "metadata": {
    "collapsed": false
   },
   "outputs": [
    {
     "name": "stdout",
     "output_type": "stream",
     "text": [
      "tensor([[6.5789, 8.6786],\n",
      "        [7.8137, 8.7678]])\n"
     ]
    }
   ],
   "source": [
    "b = 3*(a+2)**2\n",
    "c = b.mean()\n",
    "c.backward()\n",
    "print(a.grad)"
   ]
  },
  {
   "cell_type": "markdown",
   "metadata": {},
   "source": [
    "And therefore, it may be necessary some times to reset the gradient with:"
   ]
  },
  {
   "cell_type": "code",
   "execution_count": 8,
   "metadata": {
    "collapsed": false
   },
   "outputs": [
    {
     "name": "stdout",
     "output_type": "stream",
     "text": [
      "tensor([[0., 0.],\n",
      "        [0., 0.]])\n"
     ]
    }
   ],
   "source": [
    "a.grad.data.zero_()\n",
    "print(a.grad)"
   ]
  },
  {
   "cell_type": "markdown",
   "metadata": {},
   "source": [
    "This mechanism provides the necessary tools to train a neural network.\n",
    "\n",
    "### An example of gradient descent:\n",
    "\n",
    "The gradients $\\frac{\\partial L(y - h(x))}{\\partial w}$ and $\\frac{\\partial L(y - h(x))}{\\partial b}$ are computed with:\n",
    "- $h(x) = \\sigma(w. x + b)$\n",
    "- $\\sigma$ is the sigmoid activation function\n",
    "- $L(y, \\hat{y}) = (y - \\hat{y})^2$ (quadratic error)\n",
    "- $y = 0.2$\n",
    "- $x = 1.5$\n",
    "- $b = -2$\n",
    "- $w = 3$"
   ]
  },
  {
   "cell_type": "code",
   "execution_count": 9,
   "metadata": {
    "collapsed": false
   },
   "outputs": [
    {
     "name": "stdout",
     "output_type": "stream",
     "text": [
      "h      =  tensor([0.9241])\n",
      "grad b =  tensor([0.1015])\n",
      "grad w =  tensor([0.1523])\n"
     ]
    }
   ],
   "source": [
    "x = torch.tensor([1.5])                             #x = tf.constant(1.5)\n",
    "y = torch.tensor([0.2])                             #y = tf.constant(0.2)\n",
    "b = torch.tensor([-2.0], requires_grad=True)        #b = tf.Variable(-2.0, name=\"b\")\n",
    "w = torch.tensor([3.0], requires_grad=True)         #w = tf.Variable(3.0, name=\"w\")\n",
    "\n",
    "h = torch.sigmoid( w*x + b)                         #h = tf.math.sigmoid(w*x + b)\n",
    "error = (y - h)**2                                  #error = (y - h)**2\n",
    "error.backward()\n",
    "\n",
    "print(\"h      = \", h.data)\n",
    "print(\"grad b = \", b.grad.data)\n",
    "print(\"grad w = \", w.grad.data)"
   ]
  },
  {
   "cell_type": "markdown",
   "metadata": {},
   "source": [
    "We minimize $L(y, h(x))$ step-by-step.\n",
    "\n",
    "Weights and bias are updated according to their gradients:\n",
    "\n",
    "$w = w - \\alpha . \\frac{\\partial L(y - h(x))}{\\partial w}$\n",
    "\n",
    "$b = b - \\alpha . \\frac{\\partial L(y - h(x))}{\\partial b}$\n",
    "\n",
    "with $\\alpha$ the learning rate."
   ]
  },
  {
   "cell_type": "code",
   "execution_count": 10,
   "metadata": {
    "collapsed": false
   },
   "outputs": [
    {
     "name": "stdout",
     "output_type": "stream",
     "text": [
      "Epoch 1 error=0.52438 h=0.92414 w=2.84770 b=-2.10153\n",
      "Epoch 2 error=0.48654 h=0.89753 w=2.65524 b=-2.22984\n",
      "Epoch 3 error=0.42554 h=0.85233 w=2.40893 b=-2.39404\n",
      "Epoch 4 error=0.32713 h=0.77195 w=2.10687 b=-2.59542\n",
      "Epoch 5 error=0.19148 h=0.63758 w=1.80353 b=-2.79765\n",
      "Epoch 6 error=0.07669 h=0.47693 w=1.59628 b=-2.93582\n",
      "Epoch 7 error=0.02818 h=0.36786 w=1.47917 b=-3.01388\n",
      "Epoch 8 error=0.01234 h=0.31107 w=1.40777 b=-3.06149\n",
      "Epoch 9 error=0.00623 h=0.27892 w=1.36015 b=-3.09323\n",
      "Epoch 10 error=0.00344 h=0.25865 w=1.32641 b=-3.11572\n",
      "Epoch 11 error=0.00201 h=0.24488 w=1.30152 b=-3.13232\n",
      "Epoch 12 error=0.00123 h=0.23504 w=1.28261 b=-3.14492\n",
      "Epoch 13 error=0.00077 h=0.22776 w=1.26797 b=-3.15469\n",
      "Epoch 14 error=0.00049 h=0.22223 w=1.25644 b=-3.16237\n",
      "Epoch 15 error=0.00032 h=0.21794 w=1.24727 b=-3.16849\n",
      "Epoch 16 error=0.00021 h=0.21457 w=1.23990 b=-3.17340\n",
      "Epoch 17 error=0.00014 h=0.21189 w=1.23394 b=-3.17737\n",
      "Epoch 18 error=0.00009 h=0.20975 w=1.22910 b=-3.18060\n",
      "Epoch 19 error=0.00006 h=0.20801 w=1.22514 b=-3.18324\n",
      "Epoch 20 error=0.00004 h=0.20660 w=1.22189 b=-3.18541\n"
     ]
    }
   ],
   "source": [
    "x = torch.tensor([1.5])                             #x = tf.constant(1.5)\n",
    "y = torch.tensor([0.2])                             #y = tf.constant(0.2)\n",
    "b = torch.tensor([-2.0], requires_grad=True)        #b = tf.Variable(-2.0, name=\"b\")\n",
    "w = torch.tensor([3.0], requires_grad=True)         #w = tf.Variable(3.0, name=\"w\")\n",
    "\n",
    "alpha = 1                                           #alpha = tf.constant(1)\n",
    "for i in range(20):\n",
    "    h = torch.sigmoid(w * x + b)                    #h = tf.math.sigmoid(w*x + b)\n",
    "    error = (y - h)**2                              #error = (y - h)**2\n",
    "    error.backward()\n",
    "    \n",
    "    w.data = w.data - alpha * w.grad.data\n",
    "    w.grad.data.zero_()  # must reset to 0 before next pass\n",
    "    \n",
    "    b.data = b.data - alpha * b.grad.data\n",
    "    b.grad.data.zero_()  # must reset to 0 before next pass\n",
    "    \n",
    "    print('Epoch {} error={:.05f} h={:.05f} w={:.05f} b={:.05f}'.format(i+1, error.data[0], h.data[0], w.data[0], b.data[0]))"
   ]
  },
  {
   "cell_type": "markdown",
   "metadata": {},
   "source": [
    "> **Question:** Observe the influence of $\\alpha$ for values of 0.01, 0.1, 10 and 100, and try to adapt the number of epochs."
   ]
  },
  {
   "cell_type": "markdown",
   "metadata": {},
   "source": [
    "# C - Read the data"
   ]
  },
  {
   "cell_type": "markdown",
   "metadata": {},
   "source": [
    "### C1 - Open files and convert to numpy / PyTorch \n",
    "\n",
    "We'll start by reading _png_ files stored in the data directory. \n",
    "Note that the filename of the _png_ image describes which view (Axial, Coronal, Sagital) and modality (T1w or T2w or CT) corresponds to the image.\n",
    "\n",
    "These _png_ correspond to slices extracted from 3D volumes. In order to reduce the data variability (and simplify the slice extraction scripts), all MRI volumes, and respectively CT, have been registered on a reference image using [elastix](http://elastix.isi.uu.nl/). \n",
    "\n",
    "Thus, the origin, spacing, orientation and number of pixels per dimensions of all volumes are the same and therefore will not need to be taken into account systematically by the learning scripts (using SimpleITK, MedPy, nibabel...).\n",
    "\n",
    "Then, slices were extracted and the window/level was adapted (using [ITK](https://itk.org/)).\n",
    "\n",
    "Finally, they were resized to 64x64 (using [ImageMagick](https://www.imagemagick.org/)).\n",
    "\n",
    "> **Before running the next cell**, you have to attach the dataset ```dlss_ho4_data``` using the tab on right.\n",
    ">    1.  in Data filed, enter  ```dlss_ho4_data```   \n",
    ">    2.  select it from the list\n",
    ">    3.  click on \"Attach dataset\"  \n",
    "\n",
    "The mount point should be ```/floyd/input/dlss_ho4_data```: the data will be accessed from this directory.\n",
    "\n",
    "> The next cell will open all images and create `X_data` (containing the images) and `y_data` the corresponding labels.\n"
   ]
  },
  {
   "cell_type": "code",
   "execution_count": 11,
   "metadata": {
    "collapsed": false
   },
   "outputs": [
    {
     "name": "stdout",
     "output_type": "stream",
     "text": [
      " ** nb files : 21314\n",
      "---------------------\n",
      " labels of the 30 first images :  [3 0 5 2 1 8 2 6 3 3 3 0 1 4 3 0 0 1 1 1 0 2 2 2 1 3 0 4 0 2]\n"
     ]
    }
   ],
   "source": [
    "input_path = '/floyd/input/dlss_ho4_data/'\n",
    "\n",
    "\n",
    "original_height = 64\n",
    "original_width  = 64\n",
    "\n",
    "half_kernel_size = 0\n",
    "desired_height = original_height - 2*half_kernel_size\n",
    "desired_width = original_width - 2*half_kernel_size\n",
    "\n",
    "\n",
    "med_view = {\n",
    "        \"T1-A\":0,\n",
    "        \"T1-S\":1,\n",
    "        \"T1-C\":2,\n",
    "        \"T2-A\":3,\n",
    "        \"T2-S\":4,\n",
    "        \"T2-C\":5,\n",
    "        \"CT-A\":6,\n",
    "        \"CT-S\":7,\n",
    "        \"CT-C\":8}\n",
    "\n",
    "rev_med_view = {\n",
    "        0:\"T1-A\",\n",
    "        1:\"T1-S\",\n",
    "        2:\"T1-C\",\n",
    "        3:\"T2-A\",\n",
    "        4:\"T2-S\",\n",
    "        5:\"T2-C\",\n",
    "        6:\"CT-A\",\n",
    "        7:\"CT-S\",\n",
    "        8:\"CT-C\"}\n",
    "\n",
    "# compute the number of files\n",
    "nb_file = 0\n",
    "for filename in os.listdir(input_path):\n",
    "    if filename.endswith(\".png\"):\n",
    "        nb_file += 1\n",
    "print(\" ** nb files : {}\".format(nb_file))\n",
    "\n",
    "X_data = np.zeros((nb_file, desired_height, desired_width), dtype=np.uint8)\n",
    "y_data = np.zeros( nb_file, dtype=np.uint8)\n",
    "im_index = 0\n",
    "for filename in os.listdir(input_path):\n",
    "    if filename.endswith(\".png\"):\n",
    "        if (im_index % (nb_file // 20 )) == 0  :  print('-', end='', flush=True)\n",
    "        im = Image.open(input_path+filename)\n",
    "        im_np = np.array(im.getdata())\n",
    "        im_np.shape = (original_height, original_width)\n",
    "        X_data[im_index, :, :] = im_np[half_kernel_size:original_height-half_kernel_size,half_kernel_size:original_width-half_kernel_size]\n",
    "        y_data[im_index] = med_view[ (filename[-8:-4]) ]\n",
    "        im_index += 1\n",
    "\n",
    "print(\"\\n labels of the 30 first images : \", y_data[0:30])"
   ]
  },
  {
   "cell_type": "markdown",
   "metadata": {},
   "source": [
    "We then shuffle the data:"
   ]
  },
  {
   "cell_type": "code",
   "execution_count": 12,
   "metadata": {
    "collapsed": false
   },
   "outputs": [
    {
     "name": "stdout",
     "output_type": "stream",
     "text": [
      "\n",
      " labels of the 30 first images (shuffled):  [4 5 3 1 2 5 0 1 2 1 2 2 3 3 2 4 2 1 5 5 5 8 3 8 4 2 4 4 4 1]\n"
     ]
    }
   ],
   "source": [
    "#shuffle data and labels\n",
    "rnd_data = np.random.permutation(len(X_data))\n",
    "X_tmp = X_data\n",
    "y_tmp = y_data\n",
    "indx = 0\n",
    "for indx_r in rnd_data:\n",
    "    X_data[indx, :, :] = X_tmp[indx_r, :, :]\n",
    "    y_data[indx]       = y_tmp[indx_r]\n",
    "    indx += 1\n",
    "\n",
    "print(\"\\n labels of the 30 first images (shuffled): \", y_data[0:30])"
   ]
  },
  {
   "cell_type": "markdown",
   "metadata": {},
   "source": [
    "### C2 - Displaying the images"
   ]
  },
  {
   "cell_type": "code",
   "execution_count": 13,
   "metadata": {
    "collapsed": false
   },
   "outputs": [
    {
     "data": {
      "image/png": "[encoded data removed]",
      "text/plain": [
       "<Figure size 1500x1500 with 25 Axes>"
      ]
     },
     "metadata": {
      "needs_background": "light"
     },
     "output_type": "display_data"
    }
   ],
   "source": [
    "nb_x = 5\n",
    "nb_y = 5\n",
    "plt.figure(figsize=(15, 15*nb_x/nb_y), dpi=100)\n",
    "for i in range(1, nb_x * nb_y +1):\n",
    "    plt.subplot(nb_x, nb_y ,i)\n",
    "    plot_image( X_data[i-1].reshape(desired_width, desired_height) )\n",
    "    plt.title(rev_med_view[y_data[i-1]])"
   ]
  },
  {
   "cell_type": "markdown",
   "metadata": {},
   "source": [
    "### C3 - Convert the data shape and type\n",
    "Unfortunately, there are no clear rules to create train, valid and test sets.\n",
    "\n",
    "The one presented here is useful and simple when you don't need to randomize your inputs in order to assess size effect nor training stability using k-fold cross-validations.\n",
    "\n",
    "This solution also plays around with the `reshape` operator of numpy."
   ]
  },
  {
   "cell_type": "code",
   "execution_count": 14,
   "metadata": {
    "collapsed": false
   },
   "outputs": [],
   "source": [
    "# is there a GPU available?\n",
    "device = torch.device('cuda') if torch.cuda.is_available() else torch.device('cpu')\n",
    "\n",
    "# first: convert type to tensors\n",
    "X_data = torch.from_numpy(X_data.astype(np.float32).reshape(-1, desired_width*desired_height) / 255.0)\n",
    "y_data = torch.from_numpy(y_data.astype(np.int64))\n",
    "\n",
    "# send it to the best device\n",
    "X_data = X_data.to(device)\n",
    "y_data = y_data.to(device)\n",
    "\n",
    "# third: define training+valid sets vs test set\n",
    "nb_train = 400                                                  # selects only 400 samples from 21 314\n",
    "X_train, y_train = X_data[:nb_train], y_data[:nb_train]\n",
    "X_test, y_test   = X_data[nb_train:], y_data[nb_train:]\n",
    "\n",
    "# fourth: split training and valid sets\n",
    "nb_valid = nb_train * 10 // 100\n",
    "X_valid, X_train = X_train[:nb_valid], X_train[nb_valid:]\n",
    "y_valid, y_train = y_train[:nb_valid], y_train[nb_valid:]"
   ]
  },
  {
   "cell_type": "markdown",
   "metadata": {},
   "source": [
    "### C4 - Check the output data size and type\n",
    "We recommend to check as often as needed the shape and type of data.\n",
    "\n",
    "The first step that must be done is the data visualization.\n",
    "\n",
    "Don't go further if you can't see what is inside array and tensor!"
   ]
  },
  {
   "cell_type": "code",
   "execution_count": 15,
   "metadata": {
    "collapsed": false
   },
   "outputs": [
    {
     "name": "stdout",
     "output_type": "stream",
     "text": [
      "torch.Size([360, 4096]) torch.Size([360])\n",
      "torch.Size([40, 4096]) torch.Size([40])\n",
      "torch.Size([20914, 4096]) torch.Size([20914])\n",
      "torch.float32 torch.int64 cuda:0 cuda:0\n"
     ]
    }
   ],
   "source": [
    "print(X_train.shape , y_train.shape)\n",
    "print(X_valid.shape, y_valid.shape )\n",
    "print(X_test.shape, y_test.shape)\n",
    "print(X_train.dtype, y_train.dtype, X_train.device, y_train.device)"
   ]
  },
  {
   "cell_type": "markdown",
   "metadata": {},
   "source": [
    "> _**All done, go to the network!**_"
   ]
  },
  {
   "cell_type": "markdown",
   "metadata": {},
   "source": [
    "# D - Simple Neural network \n",
    "The simplest way to create, train and test a network is to use _Sequential container_ (Pytorch or Keras).\n",
    "\n",
    "With a sequential container, you can quickly design a linear stack of layers and so, many kinds of models (LSTM, CNN, ...).\n",
    "\n",
    "You can have a look at the PyTorch Documentation at [https://pytorch.org/docs/stable/nn.html#sequential](https://pytorch.org/docs/stable/nn.html#sequential)"
   ]
  },
  {
   "cell_type": "markdown",
   "metadata": {},
   "source": [
    "### D1 - Here we create a simple Multilayer Perceptron (MLP) for multi-class softmax classification"
   ]
  },
  {
   "cell_type": "code",
   "execution_count": 16,
   "metadata": {
    "collapsed": true
   },
   "outputs": [],
   "source": [
    "#import torch.nn as nn  # usual import of the neural network module; not used in this notebook\n",
    "\n",
    "image_size = desired_height * desired_width\n",
    "nb_neurons = 16\n",
    "\n",
    "model = torch.nn.Sequential(\n",
    "            torch.nn.Linear(image_size, nb_neurons),  # first layer, fully-connected\n",
    "            torch.nn.ReLU(),                          # activation function\n",
    "            torch.nn.Linear(nb_neurons, 9),\n",
    "            torch.nn.LogSoftmax(dim=1)\n",
    "        )\n",
    "model = model.to(device)"
   ]
  },
  {
   "cell_type": "markdown",
   "metadata": {},
   "source": [
    "### D2 - Then we configure the parameters of the training step"
   ]
  },
  {
   "cell_type": "code",
   "execution_count": 40,
   "metadata": {
    "collapsed": true,
    "scrolled": true
   },
   "outputs": [],
   "source": [
    "losses = []      # initialization of the training loss\n",
    "accuracies = []  # initialization of the training accuracy\n",
    "\n",
    "nb_epochs = 10\n",
    "learning_rate = 1e-4\n",
    "loss = torch.nn.NLLLoss()  # negative log likelihood loss\n",
    "my_optimizer = torch.optim.Adam(model.parameters(), lr=learning_rate)\n",
    "\n",
    "def evaluate(prediction, ground_truth):  # define the method to evaluate the model\n",
    "    Y_pred = prediction.data.max(dim=1)[1] # [1] for the max position\n",
    "    accuracy = Y_pred.eq(ground_truth).sum().cpu().numpy()/ground_truth.size()[0]\n",
    "    return accuracy"
   ]
  },
  {
   "cell_type": "markdown",
   "metadata": {},
   "source": [
    "### D3 - **Now let train the model**"
   ]
  },
  {
   "cell_type": "code",
   "execution_count": 41,
   "metadata": {
    "collapsed": false
   },
   "outputs": [
    {
     "name": "stdout",
     "output_type": "stream",
     "text": [
      "Epoch 0: error=1.30676 accuracy=0.71667\n",
      "Epoch 1: error=1.30207 accuracy=0.71667\n",
      "Epoch 2: error=1.29739 accuracy=0.71667\n",
      "Epoch 3: error=1.29274 accuracy=0.71667\n",
      "Epoch 4: error=1.28814 accuracy=0.71667\n",
      "Epoch 5: error=1.28354 accuracy=0.71667\n",
      "Epoch 6: error=1.27895 accuracy=0.71944\n",
      "Epoch 7: error=1.27439 accuracy=0.71944\n",
      "Epoch 8: error=1.26988 accuracy=0.71944\n",
      "Epoch 9: error=1.26539 accuracy=0.71944\n"
     ]
    }
   ],
   "source": [
    "for epoch in range(nb_epochs):\n",
    "    prediction = model(X_train)\n",
    "    l = loss(prediction, y_train)\n",
    "    l.backward()\n",
    "    my_optimizer.step()       # applies the gradient descent\n",
    "    my_optimizer.zero_grad()  # clears gradients\n",
    "    accuracy = evaluate(prediction, y_train)\n",
    "      \n",
    "    print(\"Epoch {}: error={:.05f} accuracy={:.05f}\".format(epoch, l, accuracy))\n",
    "    losses.append(l)\n",
    "    accuracies.append(accuracy)\n"
   ]
  },
  {
   "cell_type": "markdown",
   "metadata": {},
   "source": [
    "> **If you want to run more epochs, just run again the cell above!** and see how accuracy converges to 1 ;)"
   ]
  },
  {
   "cell_type": "markdown",
   "metadata": {},
   "source": [
    "### D4 - Check the accuracy on the test set"
   ]
  },
  {
   "cell_type": "code",
   "execution_count": 42,
   "metadata": {
    "collapsed": false
   },
   "outputs": [
    {
     "name": "stdout",
     "output_type": "stream",
     "text": [
      "loss=1.26922, accuracy=0.69709\n"
     ]
    }
   ],
   "source": [
    "prediction = model(X_test)\n",
    "l = loss(prediction, y_test)\n",
    "accuracy = evaluate(prediction, y_test)\n",
    "\n",
    "print(\"loss={:.05f}, accuracy={:.05f}\".format(l, accuracy))"
   ]
  },
  {
   "cell_type": "markdown",
   "metadata": {},
   "source": [
    "> **Question 1**: It is not so bad! But try to increase the number of hidden neurons in the model (D1) to improve the test accuracy.\n",
    "\n",
    "> **Question 2**: Ok, for now we use only 400 images. Increase their number and check that the test accuracy is improved.\n",
    "\n",
    "> **Question 3**: For fun, add a Dropout layer to your model between the Linear layers.\n",
    "[Documentation of Pytorch](https://pytorch.org/docs/stable/nn.html)"
   ]
  },
  {
   "cell_type": "markdown",
   "metadata": {},
   "source": [
    "### D5 - Focus on one test prediction\n",
    "\n",
    "Test and evaluation on a large data set is nice for assessment, but what about _a_ given result?\n",
    "\n",
    "The following code performs a label prediction on the image $i$ in the test set:"
   ]
  },
  {
   "cell_type": "code",
   "execution_count": 52,
   "metadata": {
    "collapsed": false
   },
   "outputs": [
    {
     "name": "stdout",
     "output_type": "stream",
     "text": [
      "Label probabilities :  tensor([[-2.7349, -1.7151, -1.5904, -3.2936, -1.1251, -2.4291, -4.0059, -3.0315,\n",
      "         -3.3527]], device='cuda:0', grad_fn=<LogSoftmaxBackward>)\n"
     ]
    }
   ],
   "source": [
    "i = 1\n",
    "test_input = X_test[i].reshape(1,-1)   # reshape from shape [4096] to [1, 4096]\n",
    "y_t = model(test_input)                # apply the model on the given input\n",
    "print(\"Label probabilities : \", y_t)"
   ]
  },
  {
   "cell_type": "markdown",
   "metadata": {},
   "source": [
    "> **Complete the following line** which should print the true label from ```y_test``` and the one predicted from ```y_pred```:"
   ]
  },
  {
   "cell_type": "code",
   "execution_count": 53,
   "metadata": {
    "collapsed": false
   },
   "outputs": [
    {
     "name": "stdout",
     "output_type": "stream",
     "text": [
      "true label      :  tensor(4, device='cuda:0')\n",
      "predicted label :  tensor(4, device='cuda:0')\n",
      "predicted label :  tensor([4], device='cuda:0')\n"
     ]
    }
   ],
   "source": [
    "print( \"true label      : \", y_test[i] )\n",
    "print( \"predicted label : \", torch.argmax(y_t))    \n",
    "print( \"predicted label : \", y_t.data.max(dim=1)[1])    "
   ]
  },
  {
   "cell_type": "markdown",
   "metadata": {},
   "source": [
    "### D6 - Displaying the image is **always** a good idea."
   ]
  },
  {
   "cell_type": "code",
   "execution_count": 54,
   "metadata": {
    "collapsed": false
   },
   "outputs": [
    {
     "data": {
      "text/plain": [
       "Text(0.5, 1.0, 'true: T2-S, predict: T2-S')"
      ]
     },
     "execution_count": 54,
     "metadata": {},
     "output_type": "execute_result"
    },
    {
     "data": {
      "image/png": "[encoded data removed]",
      "text/plain": [
       "<Figure size 432x288 with 1 Axes>"
      ]
     },
     "metadata": {
      "needs_background": "light"
     },
     "output_type": "display_data"
    }
   ],
   "source": [
    "plot_image( X_test[i].reshape(desired_width, desired_height) )\n",
    "plt.title(\"true: \" + rev_med_view[int(y_test[i])] + \", predict: \" + rev_med_view[int(torch.argmax(y_t))])"
   ]
  },
  {
   "cell_type": "markdown",
   "metadata": {},
   "source": [
    "### D7 - See the model architecture"
   ]
  },
  {
   "cell_type": "code",
   "execution_count": 55,
   "metadata": {
    "collapsed": false
   },
   "outputs": [
    {
     "name": "stdout",
     "output_type": "stream",
     "text": [
      "Sequential(\n",
      "  (0): Linear(in_features=4096, out_features=16, bias=True)\n",
      "  (1): ReLU()\n",
      "  (2): Linear(in_features=16, out_features=9, bias=True)\n",
      "  (3): LogSoftmax()\n",
      ")\n"
     ]
    }
   ],
   "source": [
    "print(model)"
   ]
  },
  {
   "cell_type": "markdown",
   "metadata": {},
   "source": [
    "### D8 - Save the model"
   ]
  },
  {
   "cell_type": "code",
   "execution_count": 56,
   "metadata": {
    "collapsed": true,
    "scrolled": true
   },
   "outputs": [],
   "source": [
    "torch.save(model, \"my_simple_PyTorch_model.pth\")"
   ]
  },
  {
   "cell_type": "markdown",
   "metadata": {},
   "source": [
    "### D9 - Load the model"
   ]
  },
  {
   "cell_type": "code",
   "execution_count": 57,
   "metadata": {
    "collapsed": false
   },
   "outputs": [
    {
     "name": "stdout",
     "output_type": "stream",
     "text": [
      "Sequential(\n",
      "  (0): Linear(in_features=4096, out_features=16, bias=True)\n",
      "  (1): ReLU()\n",
      "  (2): Linear(in_features=16, out_features=9, bias=True)\n",
      "  (3): LogSoftmax()\n",
      ")\n",
      "Accuracy on the test set :  0.6970928564597877\n"
     ]
    }
   ],
   "source": [
    "loaded_model = torch.load(\"my_simple_PyTorch_model.pth\")\n",
    "print(model)\n",
    "prediction = loaded_model(X_test)\n",
    "print(\"Accuracy on the test set : \", evaluate(prediction, y_test))"
   ]
  },
  {
   "cell_type": "markdown",
   "metadata": {},
   "source": [
    "More details on saving and loading models: [https://pytorch.org/tutorials/beginner/saving_loading_models.html](https://pytorch.org/tutorials/beginner/saving_loading_models.html)"
   ]
  },
  {
   "cell_type": "markdown",
   "metadata": {},
   "source": [
    "### D10 - Watch learning curves\n",
    "During the training, we saved the loss and the accuracy at each iteration in the lists ```losses``` and ```accuracies```.\n",
    "\n",
    "The following lines display the corresponding curves."
   ]
  },
  {
   "cell_type": "code",
   "execution_count": 58,
   "metadata": {
    "collapsed": false
   },
   "outputs": [
    {
     "data": {
      "text/plain": [
       "Text(0.5, 0, 'Iterations')"
      ]
     },
     "execution_count": 58,
     "metadata": {},
     "output_type": "execute_result"
    },
    {
     "data": {
      "image/png": "[encoded data removed]",
      "text/plain": [
       "<Figure size 1080x360 with 2 Axes>"
      ]
     },
     "metadata": {
      "needs_background": "light"
     },
     "output_type": "display_data"
    }
   ],
   "source": [
    "plt.figure(figsize=(15, 5))\n",
    "plt.subplot(1, 2, 1)\n",
    "plt.plot(losses)\n",
    "plt.ylabel(\"Training loss\")\n",
    "plt.xlabel(\"Iterations\")\n",
    "plt.subplot(1, 2, 2)\n",
    "plt.plot(accuracies)\n",
    "plt.ylabel(\"Training accuracy\")\n",
    "plt.xlabel(\"Iterations\")"
   ]
  },
  {
   "cell_type": "markdown",
   "metadata": {},
   "source": [
    "Modify the previous cell to add your own network.\n",
    "\n",
    "Don't forget to reset the lists ```losses``` and ```accuracies```!\n",
    "\n",
    "**Change the training parameters and try to see an overfitting effect.**"
   ]
  },
  {
   "cell_type": "markdown",
   "metadata": {},
   "source": [
    "# E - Convolutional Neural Network"
   ]
  },
  {
   "cell_type": "markdown",
   "metadata": {},
   "source": [
    "Now we will create a neural network using convolutional layers.\n",
    "\n",
    "A more flexible way of defining a neural network is to define a custom class:"
   ]
  },
  {
   "cell_type": "code",
   "execution_count": 59,
   "metadata": {
    "collapsed": true
   },
   "outputs": [],
   "source": [
    "#import torch.nn.functional as F  # shortcut for activation functions\n",
    "\n",
    "class My_Net(torch.nn.Module):\n",
    "    def __init__(self):  # here, we define the network layers\n",
    "        super(My_Net, self).__init__() # initialize from the superclass \n",
    "        self.conv1 = torch.nn.Conv2d(1, 8, kernel_size=3, stride=1, padding=1)\n",
    "        self.conv2 = torch.nn.Conv2d(8, 16, kernel_size=3, stride=2, padding=1)\n",
    "        self.maxpool = torch.nn.MaxPool2d(kernel_size=2)\n",
    "        self.linear = torch.nn.Linear(16*16*16, 9)\n",
    "\n",
    "    def forward(self, X):  # here, we define how the input is processed\n",
    "        X = X.view(-1, 1, 64, 64)     # reshape as a (batch_size×1 layer×)64×64 image\n",
    "        X = torch.nn.functional.relu(self.conv1(X))     # first layer with Relu activation\n",
    "        X = torch.nn.functional.relu(self.conv2(X))\n",
    "        X = self.maxpool(X)\n",
    "        X = self.linear(X.view(-1,16*16*16))\n",
    "        return torch.nn.functional.log_softmax(X, dim=1)"
   ]
  },
  {
   "cell_type": "markdown",
   "metadata": {},
   "source": [
    "Note that in this case, a Sequential is enough but this method is for instance mandatory to implement skip connections.\n",
    "\n",
    "Here, we check how the input size changes through each layer:"
   ]
  },
  {
   "cell_type": "code",
   "execution_count": 60,
   "metadata": {
    "collapsed": false
   },
   "outputs": [
    {
     "name": "stdout",
     "output_type": "stream",
     "text": [
      "torch.Size([10, 1, 64, 64])\n",
      "torch.Size([10, 8, 64, 64])\n",
      "torch.Size([10, 16, 32, 32])\n",
      "torch.Size([10, 16, 16, 16])\n",
      "torch.Size([10, 9])\n",
      "torch.Size([10, 9])\n"
     ]
    }
   ],
   "source": [
    "cnn_model = My_Net().to(device)\n",
    "\n",
    "X = X_train[:10,:].view(-1, 1, 64, 64)\n",
    "print(X.shape)\n",
    "X = torch.nn.functional.relu(cnn_model.conv1(X))\n",
    "print(X.shape)\n",
    "X = torch.nn.functional.relu(cnn_model.conv2(X))\n",
    "print(X.shape)\n",
    "X = cnn_model.maxpool(X)\n",
    "print(X.shape)\n",
    "X = cnn_model.linear(X.view(-1, 16*16*16))\n",
    "print(X.shape)\n",
    "X = torch.nn.functional.log_softmax(X, dim=1)\n",
    "print(X.shape)"
   ]
  },
  {
   "cell_type": "markdown",
   "metadata": {},
   "source": [
    "Before starting the training, we will look at two different good practices."
   ]
  },
  {
   "cell_type": "markdown",
   "metadata": {},
   "source": [
    "### E1 - Dealing with batch sizes\n",
    "In this example, we have few images of small size. Consequently, all the data fit in memory, and an epoch runs on a single batch.\n",
    "Usually, the training data have to be loaded in minibatches to run a full epoch.\n",
    "Pytorch provides a nice way to deal with it."
   ]
  },
  {
   "cell_type": "code",
   "execution_count": 61,
   "metadata": {
    "collapsed": false
   },
   "outputs": [
    {
     "name": "stdout",
     "output_type": "stream",
     "text": [
      "torch.Size([100, 4096]) torch.Size([360])\n",
      "torch.Size([100, 4096]) torch.Size([360])\n",
      "torch.Size([100, 4096]) torch.Size([360])\n",
      "torch.Size([60, 4096]) torch.Size([360])\n"
     ]
    }
   ],
   "source": [
    "from torch.utils.data import TensorDataset  # a way to combine data and ground truth\n",
    "from torch.utils.data import DataLoader\n",
    "\n",
    "my_batch_size = 100\n",
    "train_ds = TensorDataset(X_train, y_train)\n",
    "train_dl = DataLoader(train_ds, batch_size=my_batch_size)\n",
    "\n",
    "for x_train_batch, y_train_batch in train_dl:\n",
    "    print(x_train_batch.shape, y_train.shape)\n",
    "    # it is thus easy to iterate in this for loop"
   ]
  },
  {
   "cell_type": "markdown",
   "metadata": {},
   "source": [
    "Shuffling the minibatches is a good idea, to avoid learning on the same sequences at each epoch.\n",
    "\n",
    "To do so, we just have to add the option ```shuffle=True``` in the DataLoader."
   ]
  },
  {
   "cell_type": "markdown",
   "metadata": {},
   "source": [
    "### E2 -  Adding a validation process\n",
    "A validation step is a useful way to avoid overfitting.\n",
    "\n",
    "At each epoch, the neural network is evaluated on the validation set, but not trained on it.\n",
    "\n",
    "If the validation loss starts to grow, it means that the network is overfitting the training set, and that it is time to stop the training."
   ]
  },
  {
   "cell_type": "code",
   "execution_count": 63,
   "metadata": {
    "collapsed": true
   },
   "outputs": [],
   "source": [
    "#Here is the skeleton of the epoch loop using validation \n",
    "train_ds = TensorDataset(X_train, y_train)\n",
    "train_dl = DataLoader(train_ds, batch_size=my_batch_size, shuffle=True)  # so the batches will change at each epoch\n",
    "valid_ds = TensorDataset(X_valid, y_valid)\n",
    "valid_dl = DataLoader(train_ds, batch_size=my_batch_size)\n",
    "\n",
    "for epoch in range(nb_epochs):\n",
    "    model.train()  # train mode. Usefull for certain types of layers such that Dropout.\n",
    "    train_loss = 0\n",
    "#    for x_train_batch, y_train_batch in train_dl:\n",
    "#        prediction = model(X_train)\n",
    "#        l = loss(prediction, y_train)\n",
    "#        l.backward()\n",
    "#        train_loss += l\n",
    "#        my_optimizer.step()\n",
    "#        my_optimizer.zero_grad()\n",
    "    \n",
    "    model.eval()  # evaluation mode. Dropout won't do anything\n",
    "    with torch.no_grad():  # we don't compute gradients in evaluation, and thus reduce memory requirements\n",
    "        valid_loss = 0\n",
    "#        for x_valid_batch, y_valid_batch in valid_dl:\n",
    "#            valid_loss += loss(model(x_valid_batch), y_valid_batch)"
   ]
  },
  {
   "cell_type": "markdown",
   "metadata": {},
   "source": [
    "### E3 - Let's train!\n",
    "We use the validation dataset to check overfitting."
   ]
  },
  {
   "cell_type": "code",
   "execution_count": 64,
   "metadata": {
    "collapsed": false
   },
   "outputs": [
    {
     "name": "stdout",
     "output_type": "stream",
     "text": [
      "The training is finished!\n"
     ]
    }
   ],
   "source": [
    "train_losses = []\n",
    "train_accuracies = []\n",
    "valid_losses = []\n",
    "valid_accuracies = []\n",
    "\n",
    "nb_epoch = 10\n",
    "my_batch_size = 180\n",
    "learning_rate = 1e-5\n",
    "loss = torch.nn.NLLLoss()  # negative log likelihood loss\n",
    "\n",
    "train_ds = TensorDataset(X_train, y_train)\n",
    "train_dl = DataLoader(train_ds, batch_size=my_batch_size, shuffle=True)\n",
    "valid_ds = TensorDataset(X_valid, y_valid)\n",
    "valid_dl = DataLoader(valid_ds, batch_size=my_batch_size)\n",
    "\n",
    "cnn_model = My_Net().to(device)\n",
    "my_optimizer = torch.optim.Adam(cnn_model.parameters(), lr=learning_rate)\n",
    "\n",
    "for epoch in range(nb_epoch):\n",
    "    cnn_model.train()  # train mode. Usefull for certain types of layers such that DropOut.\n",
    "    train_loss = 0\n",
    "    nb_train_batch = 0\n",
    "    for x_train_batch, y_train_batch in train_dl:\n",
    "        nb_train_batch += 1\n",
    "        prediction = cnn_model(x_train_batch)\n",
    "        l = loss(prediction, y_train_batch)\n",
    "        l.backward()\n",
    "        my_optimizer.step()\n",
    "        my_optimizer.zero_grad()\n",
    "        train_loss += l\n",
    "        train_accuracy = evaluate(prediction, y_train_batch)\n",
    "    \n",
    "    cnn_model.eval()  # evaluation mode. DropOut won't do anything\n",
    "    with torch.no_grad():  # we don't compute gradients in evaluation, and thus reduce memory requirements\n",
    "        valid_loss = 0\n",
    "        nb_valid_batch = 0\n",
    "        for x_valid_batch, y_valid_batch in valid_dl:\n",
    "            nb_valid_batch += 1\n",
    "            prediction = cnn_model(x_valid_batch)\n",
    "            valid_loss += loss(prediction, y_valid_batch)\n",
    "            valid_accuracy = evaluate(prediction, y_valid_batch)\n",
    "            \n",
    "    train_losses.append(train_loss/nb_train_batch)\n",
    "    train_accuracies.append(train_accuracy)\n",
    "    valid_losses.append(valid_loss/nb_valid_batch)\n",
    "    valid_accuracies.append(valid_accuracy)\n",
    "\n",
    "print(\"The training is finished!\")"
   ]
  },
  {
   "cell_type": "markdown",
   "metadata": {},
   "source": [
    "Don't hesitate to change the network parameters, as well as the training parameters!\n",
    "\n",
    "You can check the network efficiency and potential overfitting with the code below:"
   ]
  },
  {
   "cell_type": "code",
   "execution_count": null,
   "metadata": {
    "collapsed": false
   },
   "outputs": [],
   "source": [
    "plt.figure(figsize=(15,5), dpi=100)\n",
    "plt.subplot(1,2,1)\n",
    "plt.plot(train_losses, label=\"train\")\n",
    "plt.plot(valid_losses, label=\"valid\")\n",
    "plt.xlabel(\"iterations\")\n",
    "plt.ylabel(\"loss\")\n",
    "plt.legend()\n",
    "plt.subplot(1,2,2)\n",
    "plt.plot(train_accuracies, label=\"train\")\n",
    "plt.plot(valid_accuracies, label=\"valid\")\n",
    "plt.xlabel(\"iterations\")\n",
    "plt.ylabel(\"accuracy\")\n",
    "plt.legend()"
   ]
  },
  {
   "cell_type": "markdown",
   "metadata": {},
   "source": [
    "You can compare the fully-connected network with the CNN.\n",
    "\n",
    "Below is a comparison in terms of trainable parameters for both models."
   ]
  },
  {
   "cell_type": "code",
   "execution_count": null,
   "metadata": {
    "collapsed": true
   },
   "outputs": [],
   "source": [
    "cnn_model = My_Net()\n",
    "print(\"Number of parameters in the CNN             : \", sum(p.numel() for p in cnn_model.parameters()))\n",
    "\n",
    "image_size = desired_height * desired_width\n",
    "nb_neurons = 16\n",
    "\n",
    "model = torch.nn.Sequential(\n",
    "            torch.nn.Linear(image_size, nb_neurons),  # first layer, fully-connected\n",
    "            torch.nn.ReLU(),                          # activation function\n",
    "            torch.nn.Linear(nb_neurons, 9),\n",
    "            torch.nn.LogSoftmax(dim=1)\n",
    "        )\n",
    "print(\"Number of parameters in the fully connected : \", sum(p.numel() for p in model.parameters()))"
   ]
  }
 ],
 "metadata": {
  "kernelspec": {
   "display_name": "Python 3",
   "language": "python",
   "name": "python3"
  },
  "language_info": {
   "codemirror_mode": {
    "name": "ipython",
    "version": 3
   },
   "file_extension": ".py",
   "mimetype": "text/x-python",
   "name": "python",
   "nbconvert_exporter": "python",
   "pygments_lexer": "ipython3",
   "version": "3.6.5"
  },
  "nav_menu": {},
  "toc": {
   "navigate_menu": true,
   "number_sections": true,
   "sideBar": true,
   "threshold": 6,
   "toc_cell": false,
   "toc_section_display": "block",
   "toc_window_display": false
  }
 },
 "nbformat": 4,
 "nbformat_minor": 2
}
