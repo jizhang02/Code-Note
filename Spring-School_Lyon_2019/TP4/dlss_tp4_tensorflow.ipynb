{
 "cells": [
  {
   "cell_type": "markdown",
   "metadata": {},
   "source": [
    "**Hands-on 4 – Comparing TensorFlow/Keras and PyTorch**"
   ]
  },
  {
   "cell_type": "markdown",
   "metadata": {},
   "source": [
    "_This hands-on was created by Thomas Grenier (TensorFlow) and Fabien Millioz (PyTorch), CREATIS, [deepimaging2019](https://deepimaging2019.sciencesconf.org/)_\n",
    "\n",
    "thomas.grenier@creatis.insa-lyon.fr\n",
    "fabien.millioz@creatis.insa-lyon.fr\n"
   ]
  },
  {
   "cell_type": "markdown",
   "metadata": {},
   "source": [
    "# Introduction\n",
    "\n",
    "**This file is dedicated to TensorFlow. So be sure to have enabled TensorFlow 1.12 (or higher version).**\n",
    "\n",
    "Today, we will compare usages of two well-used deep learning frameworks for DNN: [TensorFlow](https://en.wikipedia.org/wiki/TensorFlow) (Google - 2015) and [PyTorch](https://en.wikipedia.org/wiki/PyTorch) (Facebook - 2016). Many others exist as [MXNet](https://en.wikipedia.org/wiki/MXNet), [Caffe](https://en.wikipedia.org/wiki/Caffe_(software)), [Deeplearning4j](https://en.wikipedia.org/wiki/Deeplearning4j), ...\n",
    "\n",
    "Most of these frameworks have low to high-level APIs, meaning that you can develop the same network with detailed (low-level) functions to coarse (high-level) functions.\n",
    "\n",
    "Keras is the most used high-level API for TensorFlow. You already enjoyed it during the two previous hands-on sessions. One noticable point for Keras is its ablility to interface TensorFlow, Microsoft Cognitive Toolkit, Theano, or PlaidML frameworks as backend.\n",
    "\n",
    "From 2017, Keras is supported in TensorFlow's core library. The actual version of TensorFlow is 1.13 but TensorFlow 2.0 will be released soon. \n",
    "The main improvements in version 2 are API cleanups, let APIs be more consistent and better integrate TensorFlow with the Python runtime (Eager execution: toward dynamic graphs and easier debugging).\n",
    "\n",
    "\n",
    "> This practice will detail the usages of Keras and may go deeper in TensorFlow backend.\n",
    "\n",
    "\n",
    "By the way, two interesting ressources:\n",
    " - the google ML courses using TensorFlow: [TensorFlow Machine Learning Crash Course](https://developers.google.com/machine-learning/crash-course/)\n",
    " - The Aurélien Géron's books: [1st Edition](http://shop.oreilly.com/product/0636920052289.do) with TensorFlow 1  and the upcoming [2nd Edition](https://www.oreilly.com/library/view/hands-on-machine-learning/9781492032632/) using TensorFlow 2.\n",
    " \n",
    "**About the data and exercices**\n",
    "\n",
    "This hands-on is computer scientist-oriented more than application-oriented... \n",
    "\n",
    "And so, this practice focuses on a meaningless toy example inspired from the MNIST manuscript numbers classification challenge that is considered as the 'hello world' example for neural networks.\n",
    "\n",
    "Here, we have to recognize wether a brain slice image is axial, sagittal or coronal and comes from MRI T1w, MRI T2w or CT modality. So, there are 9 classes as summarized here:\n",
    "\n",
    "![Figure 1](./images_TP4/Figure1_SagittalAxialCoronal_small.png)\n",
    "\n",
    "> Let's go!"
   ]
  },
  {
   "cell_type": "markdown",
   "metadata": {},
   "source": [
    "# A - Setup"
   ]
  },
  {
   "cell_type": "markdown",
   "metadata": {},
   "source": [
    "### A1 - First, import a few common modules, ensure MatplotLib plots figures inline and prepare a function to display the figures:"
   ]
  },
  {
   "cell_type": "code",
   "execution_count": 1,
   "metadata": {
    "collapsed": true
   },
   "outputs": [],
   "source": [
    "# install some packages (imge reading/processing, graph/image display)\n",
    "#!pip3 install pillow matplotlib pydot graphviz --user\n",
    "\n",
    "# Common imports\n",
    "import numpy as np\n",
    "from PIL import Image\n",
    "import os\n",
    "\n",
    "# To plot pretty figures\n",
    "%matplotlib inline\n",
    "import matplotlib\n",
    "import matplotlib.pyplot as plt\n",
    "plt.rcParams['axes.labelsize']  = 14\n",
    "plt.rcParams['xtick.labelsize'] = 12\n",
    "plt.rcParams['ytick.labelsize'] = 12\n",
    "    \n",
    "def plot_image(image):\n",
    "    plt.imshow(image, aspect=\"equal\", cmap=\"gray\", interpolation=\"nearest\")\n",
    "    plt.axis(\"off\")"
   ]
  },
  {
   "cell_type": "markdown",
   "metadata": {},
   "source": [
    "### A2- And of course we import TensorFlow"
   ]
  },
  {
   "cell_type": "code",
   "execution_count": 2,
   "metadata": {
    "collapsed": true
   },
   "outputs": [
    {
     "data": {
      "text/plain": [
       "'1.12.0'"
      ]
     },
     "execution_count": 2,
     "metadata": {},
     "output_type": "execute_result"
    }
   ],
   "source": [
    "import tensorflow as tf\n",
    "tf.__version__"
   ]
  },
  {
   "cell_type": "markdown",
   "metadata": {},
   "source": [
    "> _**if no error occurs, your working environment is ok and you can go to next part,\n",
    "> else ... call an assistant for help!**_"
   ]
  },
  {
   "cell_type": "markdown",
   "metadata": {},
   "source": [
    "## B- How does TensorFlow work?  THIS PART CAN BE SKIPPED \n",
    "\n",
    "This section presents TensorFlow and how it works.\n",
    "This part is for users who would like to understand the low-levels functionnalities in TensorFlow on which neural networks rely.\n",
    "\n",
    "We start with a simple example where automatic differentiation is used, then we program a step-by-step classical gradient descent.\n"
   ]
  },
  {
   "cell_type": "code",
   "execution_count": 3,
   "metadata": {
    "collapsed": true
   },
   "outputs": [
    {
     "name": "stdout",
     "output_type": "stream",
     "text": [
      "<tf.Variable 'a_tf:0' shape=(2, 2) dtype=float32_ref>\n"
     ]
    }
   ],
   "source": [
    "a_tf = tf.Variable( tf.random_uniform([2, 2], -1.0, 1.0, seed=42), name=\"a_tf\")\n",
    "print(a_tf)"
   ]
  },
  {
   "cell_type": "markdown",
   "metadata": {},
   "source": [
    "… it is a tensorflow object which only presents in the current (default) graph without 'value' and must be initialized before being evaluated inside a _Session_."
   ]
  },
  {
   "cell_type": "code",
   "execution_count": 4,
   "metadata": {
    "collapsed": true
   },
   "outputs": [
    {
     "name": "stdout",
     "output_type": "stream",
     "text": [
      "[[0.9045429  0.35481548]\n",
      " [0.5906365  0.51156354]]\n"
     ]
    }
   ],
   "source": [
    "sess = tf.Session()      # create a session \n",
    "sess.run(a_tf.initializer)  # initialize 'a'\n",
    "print(sess.run(a_tf))       # evaluate and print 'a' \n",
    "sess.close()             # close the session"
   ]
  },
  {
   "cell_type": "markdown",
   "metadata": {},
   "source": [
    "OK, we can use numpy array to do the same."
   ]
  },
  {
   "cell_type": "code",
   "execution_count": 5,
   "metadata": {
    "collapsed": true
   },
   "outputs": [
    {
     "name": "stdout",
     "output_type": "stream",
     "text": [
      "[[0.34041408 0.52861232]\n",
      " [0.0252826  0.29251636]]\n",
      "<tf.Variable 'a_tf:0' shape=(2, 2) dtype=float32_ref>\n"
     ]
    }
   ],
   "source": [
    "import numpy as np\n",
    "tf.reset_default_graph()\n",
    "\n",
    "a_np = np.random.rand(2,2)\n",
    "a    = tf.get_variable( initializer=a_np, name=\"a\")\n",
    "print(a_np)\n",
    "print(a_tf)"
   ]
  },
  {
   "cell_type": "markdown",
   "metadata": {},
   "source": [
    "We can calculate gradients with automatic differentiation of the function $ c(a) = 3(a+2)^2 $."
   ]
  },
  {
   "cell_type": "code",
   "execution_count": 6,
   "metadata": {
    "collapsed": true
   },
   "outputs": [
    {
     "name": "stdout",
     "output_type": "stream",
     "text": [
      "<tf.Variable 'a:0' shape=(2, 2) dtype=float64_ref>\n",
      "Tensor(\"mul:0\", shape=(2, 2), dtype=float64)\n",
      "Tensor(\"c:0\", shape=(), dtype=float64)\n",
      "\n",
      "b =  [[16.43261416 19.18164084]\n",
      " [12.30530884 15.76689377]]\n",
      "\n",
      "c =  15.921614400605975\n"
     ]
    }
   ],
   "source": [
    "print(a)\n",
    "b = 3*(a+2)**2   \n",
    "print(b)\n",
    "c = tf.reduce_mean( b, name=\"c\")\n",
    "print(c)\n",
    "\n",
    "init = tf.global_variables_initializer()\n",
    "\n",
    "sess = tf.InteractiveSession()      # create a session which becomes the current session\n",
    "init.run()\n",
    "\n",
    "print()\n",
    "print( \"b = \", b.eval() )\n",
    "print()\n",
    "print( \"c = \", c.eval() )\n",
    "\n",
    "tf.InteractiveSession.close(sess)"
   ]
  },
  {
   "cell_type": "markdown",
   "metadata": {},
   "source": [
    "Gradient of $c(a)$ is $ \\nabla c(a) = \\frac{3(a+2)}{2} $.\n",
    "\n",
    "Here we evaluate it automatically from $c$."
   ]
  },
  {
   "cell_type": "code",
   "execution_count": 7,
   "metadata": {
    "collapsed": true
   },
   "outputs": [
    {
     "name": "stdout",
     "output_type": "stream",
     "text": [
      "Tensor(\"gradients/add_grad/Reshape:0\", shape=(2, 2), dtype=float64)\n",
      " TF auto gradient \n",
      "  [[3.51062112 3.79291848]\n",
      " [3.0379239  3.43877454]]\n",
      " true gradient \n",
      "  [[3.51062112 3.79291848]\n",
      " [3.0379239  3.43877454]]\n"
     ]
    }
   ],
   "source": [
    "gradients = tf.gradients(c, [a])[0]    # the gradients of function c(a) are calculated \n",
    "print(gradients)\n",
    "init = tf.global_variables_initializer()\n",
    "\n",
    "sess = tf.InteractiveSession()      # create a session which becomes the current session\n",
    "init.run()\n",
    "\n",
    "print(\" TF auto gradient \\n \", gradients.eval() )\n",
    "\n",
    "print(\" true gradient \\n \", 3/2*(a_np+2))  # \n",
    "tf.InteractiveSession.close(sess)"
   ]
  },
  {
   "cell_type": "markdown",
   "metadata": {},
   "source": [
    "### An example of gradient descent:\n",
    "\n",
    "The gradients $\\frac{\\partial L(y - h(x))}{\\partial w}$ and $\\frac{\\partial L(y - h(x))}{\\partial b}$ are computed with:\n",
    "- $h(x) = \\sigma(w.x + b)$\n",
    "- $\\sigma$ is the sigmoid activation function\n",
    "- $L(y, \\hat{y}) = (y - \\hat{y})^2$ (quadratic error)\n",
    "- $y = 0.2$\n",
    "- $x = 1.5$\n",
    "- $b = -2$\n",
    "- $w = 3$"
   ]
  },
  {
   "cell_type": "code",
   "execution_count": 8,
   "metadata": {
    "collapsed": true
   },
   "outputs": [
    {
     "name": "stdout",
     "output_type": "stream",
     "text": [
      "h      =  0.9241418\n",
      "grad b =  0.10153007\n",
      "grad w =  0.1522951\n"
     ]
    }
   ],
   "source": [
    "x = tf.constant(1.5)                  #x = torch.tensor([1.5])\n",
    "y = tf.constant(0.2)                  #y = torch.tensor([0.2])\n",
    "b = tf.Variable(-2.0,name=\"b\")        #b = torch.tensor([-2.0], requires_grad=True)\n",
    "w = tf.Variable(3.0,name=\"w\")         #w = torch.tensor([3.0], requires_grad=True)\n",
    "\n",
    "h = tf.math.sigmoid( w*x + b)         #h = torch.sigmoid(w * x + b)\n",
    "error = (y - h )**2                   #error = (y - h)**2\n",
    "\n",
    "gradients = tf.gradients(error, [b, w])  #error.backward()\n",
    "\n",
    "init = tf.global_variables_initializer()\n",
    "\n",
    "with tf.Session() as sess:     # create a session local to the with statement\n",
    "    init.run()\n",
    "    print(\"h      = \", h.eval())\n",
    "    print(\"grad b = \", gradients[0].eval())\n",
    "    print(\"grad w = \", gradients[1].eval())\n"
   ]
  },
  {
   "cell_type": "markdown",
   "metadata": {},
   "source": [
    "We minimize $L(y, h(x))$ step-by-step.\n",
    "\n",
    "Weights and bias are updating according to their gradients\n",
    "\n",
    "$ w = w - \\alpha . \\frac{\\partial L(y - h(x))}{\\partial w}$ \n",
    "\n",
    "$ b = b - \\alpha . \\frac{\\partial L(y - h(x))}{\\partial b}$ \n",
    "\n",
    "where $\\alpha$ is the learning rate."
   ]
  },
  {
   "cell_type": "code",
   "execution_count": 9,
   "metadata": {
    "collapsed": true
   },
   "outputs": [
    {
     "name": "stdout",
     "output_type": "stream",
     "text": [
      "Epoch 1 error=0.52438 h=0.92414 w=3.00000 b=-2.00000\n",
      "Epoch 2 error=0.04000 h=0.00000 w=-12.22951 b=-12.15301\n",
      "Epoch 3 error=0.04000 h=0.00000 w=-12.22951 b=-12.15301\n",
      "Epoch 4 error=0.04000 h=0.00000 w=-12.22951 b=-12.15301\n",
      "Epoch 5 error=0.04000 h=0.00000 w=-12.22951 b=-12.15301\n",
      "Epoch 6 error=0.04000 h=0.00000 w=-12.22951 b=-12.15301\n",
      "Epoch 7 error=0.04000 h=0.00000 w=-12.22951 b=-12.15301\n",
      "Epoch 8 error=0.04000 h=0.00000 w=-12.22951 b=-12.15301\n",
      "Epoch 9 error=0.04000 h=0.00000 w=-12.22951 b=-12.15301\n",
      "Epoch 10 error=0.04000 h=0.00000 w=-12.22951 b=-12.15301\n",
      "Epoch 11 error=0.04000 h=0.00000 w=-12.22951 b=-12.15301\n",
      "Epoch 12 error=0.04000 h=0.00000 w=-12.22951 b=-12.15301\n",
      "Epoch 13 error=0.04000 h=0.00000 w=-12.22951 b=-12.15301\n",
      "Epoch 14 error=0.04000 h=0.00000 w=-12.22951 b=-12.15301\n",
      "Epoch 15 error=0.04000 h=0.00000 w=-12.22951 b=-12.15301\n",
      "Epoch 16 error=0.04000 h=0.00000 w=-12.22951 b=-12.15301\n",
      "Epoch 17 error=0.04000 h=0.00000 w=-12.22951 b=-12.15301\n",
      "Epoch 18 error=0.04000 h=0.00000 w=-12.22951 b=-12.15301\n",
      "Epoch 19 error=0.04000 h=0.00000 w=-12.22951 b=-12.15301\n",
      "Epoch 20 error=0.04000 h=0.00000 w=-12.22951 b=-12.15301\n"
     ]
    }
   ],
   "source": [
    "alpha = tf.constant(100.0)              # alpha = 1\n",
    "nb_epochs = 20 \n",
    "\n",
    "x = tf.constant(1.5)                  #x = torch.tensor([1.5])\n",
    "y = tf.constant(0.2)                  #y = torch.tensor([0.2])\n",
    "b = tf.Variable(-2.0,name=\"b\")        #b = torch.tensor([-2.0], requires_grad=True)\n",
    "w = tf.Variable(3.0,name=\"w\")         #w = torch.tensor([3.0], requires_grad=True)\n",
    "\n",
    "h = tf.math.sigmoid( w*x + b)         #h = torch.sigmoid(w * x + b)\n",
    "error = (y - h ) **2                  #error = (y - h)**2\n",
    "\n",
    "gradients = tf.gradients(error, [b, w])  \n",
    "\n",
    "train_b = tf.assign(b, b - alpha * gradients[0])\n",
    "train_w = tf.assign(w, w - alpha * gradients[1])\n",
    "\n",
    "init = tf.global_variables_initializer()\n",
    "\n",
    "with tf.Session() as sess:\n",
    "    sess.run(init)    \n",
    "    for i in range(nb_epochs):\n",
    "        train_b_v, train_w_v, error_v, h_v, w_v, b_v = sess.run([train_b, train_w, error, h, w, b])\n",
    "        print('Epoch {} error={:.05f} h={:.05f} w={:.05f} b={:.05f}'.format(i+1, error_v, h_v, w_v, b_v))"
   ]
  },
  {
   "cell_type": "markdown",
   "metadata": {},
   "source": [
    " > **Question:** Observe the influence of $\\alpha$ for values of 0.01, 0.1, 10 and 100, and try to adapt the number of epochs.\n",
    " \n",
    " "
   ]
  },
  {
   "cell_type": "markdown",
   "metadata": {},
   "source": [
    "# C - Read the data"
   ]
  },
  {
   "cell_type": "markdown",
   "metadata": {},
   "source": [
    "### C1 - Open files and convert to numpy / tensorflow \n",
    "\n",
    "Now start by reading _png_ files stored in the data directory. \n",
    "Note that the filename of the _png_ image describes which view (Axial, Coronal, Sagital) and modality (T1w or T2w or CT) correspond to the image.\n",
    "\n",
    "These _png_ correspond to slices extracted from 3D volumes. In order to reduce the data variability (and simplify the slice extraction scripts), all MRI volumes, and respectively CT, have been registered on a reference image using [elastix](http://elastix.isi.uu.nl/). \n",
    "\n",
    "Thus, the origin, spacing, orientation and number of pixels per dimension of all volumes are the same and therefore will not need to be taken into account systematically by the learning scripts (using SimpleITK, MedPy, nibabel...).\n",
    "\n",
    "Then, slices are extracted and the window/level was adapted (using [ITK](https://itk.org/)).\n",
    "\n",
    "Finally, they were resized to 64x64 (using [ImageMagick](https://www.imagemagick.org/)).\n",
    "\n",
    "> **Before running the next cell**, you have to attach the dataset ```dlss_ho4_data``` using the tab on right\n",
    ">    1.  in Data filed, enter  ```dlss_ho4_data```   \n",
    ">    2.  select it from the list\n",
    ">    3.  click on \"Attach dataset\"  \n",
    "\n",
    "The mount point should be ```/floyd/input/dlss_ho4_data```: the data will be accessed from this directory.\n",
    "\n",
    "> The next cell will open all images and create `X_data` (containing the images) and `y_data` the corresponding labels.\n"
   ]
  },
  {
   "cell_type": "code",
   "execution_count": 10,
   "metadata": {
    "collapsed": true
   },
   "outputs": [
    {
     "name": "stdout",
     "output_type": "stream",
     "text": [
      " ** nb files : 21314\n",
      "---------------------\n",
      " labels of the 30 first images :  [2 1 1 2 5 4 7 1 7 4 3 0 5 5 5 0 0 0 2 4 5 5 0 2 0 2 3 3 1 5]\n"
     ]
    }
   ],
   "source": [
    "input_path = '/floyd/input/dlss_ho4_data/'\n",
    "\n",
    "original_height = 64\n",
    "original_width  = 64\n",
    "\n",
    "half_kernel_size = 0\n",
    "desired_height = original_height - 2*half_kernel_size\n",
    "desired_width = original_width - 2*half_kernel_size\n",
    "\n",
    "\n",
    "med_view = {      \n",
    "        \"T1-A\":0,\n",
    "        \"T1-S\":1,\n",
    "        \"T1-C\":2,\n",
    "        \"T2-A\":3,\n",
    "        \"T2-S\":4,\n",
    "        \"T2-C\":5,\n",
    "        \"CT-A\":6,\n",
    "        \"CT-S\":7,\n",
    "        \"CT-C\":8}\n",
    "\n",
    "rev_med_view = {\n",
    "        0:\"T1-A\",\n",
    "        1:\"T1-S\",\n",
    "        2:\"T1-C\",\n",
    "        3:\"T2-A\",\n",
    "        4:\"T2-S\",\n",
    "        5:\"T2-C\",\n",
    "        6:\"CT-A\",\n",
    "        7:\"CT-S\",\n",
    "        8:\"CT-C\"}\n",
    "\n",
    "# compute the number of files\n",
    "nb_file = 0\n",
    "for filename in os.listdir(input_path):\n",
    "    if filename.endswith(\".png\"):\n",
    "        nb_file += 1\n",
    "print(\" ** nb files : {}\".format(nb_file))\n",
    "\n",
    "X_data = np.zeros((nb_file, desired_height, desired_width), dtype=np.uint8)\n",
    "y_data = np.zeros( nb_file, dtype=np.uint8)\n",
    "im_index = 0\n",
    "for filename in os.listdir(input_path):\n",
    "    if filename.endswith(\".png\"):\n",
    "        if (im_index % (nb_file // 20 )) == 0  :  print('-', end='', flush=True)\n",
    "        im = Image.open(input_path+filename)\n",
    "        im_np = np.array(im.getdata())\n",
    "        im_np.shape = (original_height, original_width)\n",
    "        X_data[im_index, :, :] = im_np[half_kernel_size:original_height-half_kernel_size,half_kernel_size:original_width-half_kernel_size]\n",
    "        y_data[im_index] = med_view[ (filename[-8:-4]) ]\n",
    "        im_index += 1\n",
    "\n",
    "print(\"\\n labels of the 30 first images : \", y_data[0:30])"
   ]
  },
  {
   "cell_type": "markdown",
   "metadata": {},
   "source": [
    "We then shuffle the data:"
   ]
  },
  {
   "cell_type": "code",
   "execution_count": 11,
   "metadata": {
    "collapsed": true
   },
   "outputs": [
    {
     "name": "stdout",
     "output_type": "stream",
     "text": [
      "\n",
      " labels of the 30 first images (shuffled):  [1 5 4 1 2 2 3 1 3 4 2 1 5 3 8 1 2 3 4 4 1 5 2 0 0 3 1 2 5 2]\n"
     ]
    }
   ],
   "source": [
    "#shuffle data and labels\n",
    "rnd_data = np.random.permutation(len(X_data))\n",
    "X_tmp = X_data\n",
    "y_tmp = y_data\n",
    "indx = 0\n",
    "for indx_r in rnd_data:\n",
    "    X_data[indx, :, :] = X_tmp[indx_r, :, :]\n",
    "    y_data[indx]       = y_tmp[indx_r]\n",
    "    indx += 1\n",
    "\n",
    "print(\"\\n labels of the 30 first images (shuffled): \", y_data[0:30])"
   ]
  },
  {
   "cell_type": "markdown",
   "metadata": {},
   "source": [
    "### C2 - Displaying the images"
   ]
  },
  {
   "cell_type": "code",
   "execution_count": 12,
   "metadata": {
    "collapsed": true
   },
   "outputs": [
    {
     "data": {
      "image/png": "[encoded data removed]",
      "text/plain": [
       "<Figure size 1500x1500 with 25 Axes>"
      ]
     },
     "metadata": {
      "needs_background": "light"
     },
     "output_type": "display_data"
    }
   ],
   "source": [
    "nb_x = 5\n",
    "nb_y = 5\n",
    "plt.figure(figsize=(15,15*nb_x/nb_y), dpi=100)\n",
    "for i in range(1, nb_x * nb_y +1):\n",
    "    plt.subplot(nb_x, nb_y ,i)\n",
    "    plot_image( X_data[i-1].reshape(desired_width, desired_height) )\n",
    "    plt.title(rev_med_view[y_data[i-1]])"
   ]
  },
  {
   "cell_type": "markdown",
   "metadata": {},
   "source": [
    "### C3 - Convert the data shape and type\n",
    "Unfortunately, there are no clear rules to create train, valid and test sets.\n",
    "\n",
    "The one presented here is useful and simple when you don't need to randomize your inputs in order to assess size effect nor training stability using k-fold cross-validations.\n",
    "\n",
    "This solution also plays around with the `reshape` operator of numpy."
   ]
  },
  {
   "cell_type": "code",
   "execution_count": 13,
   "metadata": {
    "collapsed": true
   },
   "outputs": [
    {
     "name": "stdout",
     "output_type": "stream",
     "text": [
      "X_data is: [[0. 0. 0. ... 0. 0. 0.]\n",
      " [0. 0. 0. ... 0. 0. 0.]\n",
      " [0. 0. 0. ... 0. 0. 0.]\n",
      " ...\n",
      " [0. 0. 0. ... 0. 0. 0.]\n",
      " [0. 0. 0. ... 0. 0. 0.]\n",
      " [0. 0. 0. ... 0. 0. 0.]]\n",
      "y_data is: [1 5 4 ... 1 5 1]\n",
      "The length of X_train is: 400\n",
      "The length of y_train is: 400\n",
      "The length of X_test is: 20914\n",
      "The length of y_test is: 20914\n",
      "The length of X_valid is: 40\n",
      "The length of y_valid is: 40\n",
      "The length of X_train is: 360\n",
      "The length of y_train is: 360\n"
     ]
    }
   ],
   "source": [
    "# first : convert type\n",
    "X_data = X_data.astype(np.float32).reshape(-1, desired_width*desired_height) / 255.0\n",
    "y_data = y_data.astype(np.int32)\n",
    "print(\"X_data is:\",X_data)\n",
    "print(\"y_data is:\",y_data)\n",
    "# second : define training+valid sets vs test set\n",
    "nb_train = 400                                            # selects only 400 samples from 21314\n",
    "X_train, y_train = X_data[:nb_train], y_data[:nb_train]\n",
    "X_test, y_test   = X_data[nb_train:], y_data[nb_train:]\n",
    "print(\"The length of X_train is:\",len(X_train))\n",
    "print(\"The length of y_train is:\",len(y_train))\n",
    "print(\"The length of X_test is:\",len(X_test))\n",
    "print(\"The length of y_test is:\",len(y_test))\n",
    "\n",
    "\n",
    "# third : slpit training and valid sets\n",
    "nb_valid = nb_train * 10 // 100\n",
    "X_valid, X_train = X_train[:nb_valid], X_train[nb_valid:]\n",
    "y_valid, y_train = y_train[:nb_valid], y_train[nb_valid:]\n",
    "print(\"The length of X_valid is:\",len(X_valid))\n",
    "print(\"The length of y_valid is:\",len(y_valid))\n",
    "print(\"The length of X_train is:\",len(X_train))\n",
    "print(\"The length of y_train is:\",len(y_train))"
   ]
  },
  {
   "cell_type": "markdown",
   "metadata": {},
   "source": [
    "### C4 - Check the output data size and type\n",
    "We recommend to check as often as needed the shape and type of data.\n",
    "\n",
    "The first step that must be done is the data visualization.\n",
    "\n",
    "Don't go further if you can't see what is inside array and tensor!"
   ]
  },
  {
   "cell_type": "code",
   "execution_count": 14,
   "metadata": {
    "collapsed": true
   },
   "outputs": [
    {
     "name": "stdout",
     "output_type": "stream",
     "text": [
      "(360, 4096) (360,)\n",
      "(40, 4096) (40,)\n",
      "(20914, 4096) (20914,)\n",
      "float32 int32\n"
     ]
    }
   ],
   "source": [
    "print(X_train.shape , y_train.shape)\n",
    "print(X_valid.shape, y_valid.shape )\n",
    "print(X_test.shape, y_test.shape)\n",
    "print(X_train.dtype, y_train.dtype)"
   ]
  },
  {
   "cell_type": "markdown",
   "metadata": {},
   "source": [
    "> _**All done, go to the network!**_"
   ]
  },
  {
   "cell_type": "markdown",
   "metadata": {},
   "source": [
    "# D - Simple Keras Neural Network \n",
    "\n",
    "The simplest way to create, train and test a network, is the _Sequential container_ (Keras or PyTorch).\n",
    "\n",
    "With a sequential container, you can quickly design a linear stack of layers and so, many kind of models (LSTM, CNN, ...). \n",
    "\n",
    "You can have a look at the Keras web documentation at: \n",
    "https://keras.io/getting-started/sequential-model-guide/"
   ]
  },
  {
   "cell_type": "markdown",
   "metadata": {},
   "source": [
    "### D1 - Here we create a simple Multilayer Perceptron (MLP) for multi-class softmax classification"
   ]
  },
  {
   "cell_type": "code",
   "execution_count": 15,
   "metadata": {
    "collapsed": true
   },
   "outputs": [],
   "source": [
    "if 'sess' in locals():     # this code prevent creating many intance of\n",
    "    tf.reset_default_graph()\n",
    "    sess.close()           # tensorflow in memory (that can cause crashes)\n",
    "\n",
    "image_size = desired_height * desired_width\n",
    "nb_neurons = 96\n",
    "\n",
    "    \n",
    "sess = tf.InteractiveSession() \n",
    "\n",
    "model = tf.keras.models.Sequential([\n",
    "  tf.keras.layers.Dense(nb_neurons, input_shape=(image_size,), activation=tf.nn.relu),  # a fully-connected layer with 16 hidden units\n",
    "  tf.keras.layers.Dense(9, activation=tf.nn.softmax)\n",
    "])\n"
   ]
  },
  {
   "cell_type": "markdown",
   "metadata": {},
   "source": [
    "### D2 - Then we configure the model for the trainning step"
   ]
  },
  {
   "cell_type": "code",
   "execution_count": 16,
   "metadata": {
    "collapsed": true,
    "scrolled": true
   },
   "outputs": [],
   "source": [
    "nb_epochs = 10\n",
    "learning_rate = 1e-3\n",
    "\n",
    "my_optimizer = tf.keras.optimizers.Adam(lr=learning_rate)\n",
    "\n",
    "model.compile(optimizer=my_optimizer,                  # For optimizers' list and parameters see: https://keras.io/optimizers/ \n",
    "              loss='sparse_categorical_crossentropy',  # list of loss functions: https://keras.io/losses/\n",
    "              metrics=['accuracy'])                    # list of available metrics: https://keras.io/metrics/"
   ]
  },
  {
   "cell_type": "markdown",
   "metadata": {},
   "source": [
    "### D3 - **Now let's train the model on 10 epochs**"
   ]
  },
  {
   "cell_type": "code",
   "execution_count": 17,
   "metadata": {
    "collapsed": true
   },
   "outputs": [
    {
     "name": "stdout",
     "output_type": "stream",
     "text": [
      "Epoch 1/10\n",
      "360/360 [==============================] - 0s 766us/step - loss: 1.5056 - acc: 0.5194\n",
      "Epoch 2/10\n",
      "360/360 [==============================] - 0s 101us/step - loss: 0.5325 - acc: 0.8972\n",
      "Epoch 3/10\n",
      "360/360 [==============================] - 0s 104us/step - loss: 0.2832 - acc: 0.9333\n",
      "Epoch 4/10\n",
      "360/360 [==============================] - 0s 108us/step - loss: 0.1898 - acc: 0.9444\n",
      "Epoch 5/10\n",
      "360/360 [==============================] - 0s 105us/step - loss: 0.1433 - acc: 0.9667\n",
      "Epoch 6/10\n",
      "360/360 [==============================] - 0s 104us/step - loss: 0.1006 - acc: 0.9861\n",
      "Epoch 7/10\n",
      "360/360 [==============================] - 0s 102us/step - loss: 0.0759 - acc: 0.9917\n",
      "Epoch 8/10\n",
      "360/360 [==============================] - 0s 106us/step - loss: 0.0631 - acc: 0.9944\n",
      "Epoch 9/10\n",
      "360/360 [==============================] - 0s 102us/step - loss: 0.0535 - acc: 0.9972\n",
      "Epoch 10/10\n",
      "360/360 [==============================] - 0s 105us/step - loss: 0.0457 - acc: 0.9972\n"
     ]
    },
    {
     "data": {
      "text/plain": [
       "<tensorflow.python.keras.callbacks.History at 0x7f3c41c1a390>"
      ]
     },
     "execution_count": 17,
     "metadata": {},
     "output_type": "execute_result"
    }
   ],
   "source": [
    "model.fit(X_train, y_train, epochs=nb_epochs)"
   ]
  },
  {
   "cell_type": "markdown",
   "metadata": {},
   "source": [
    "> **If you want to run more epoch, just run again the cell above!** and see how accuracy converges to 1 ;)"
   ]
  },
  {
   "cell_type": "markdown",
   "metadata": {},
   "source": [
    "### D4 - Check the accuray on the test set"
   ]
  },
  {
   "cell_type": "code",
   "execution_count": 18,
   "metadata": {
    "collapsed": true
   },
   "outputs": [
    {
     "name": "stdout",
     "output_type": "stream",
     "text": [
      "20914/20914 [==============================] - 1s 53us/step\n"
     ]
    },
    {
     "data": {
      "text/plain": [
       "[0.1669197944740589, 0.9728411590322272]"
      ]
     },
     "execution_count": 18,
     "metadata": {},
     "output_type": "execute_result"
    }
   ],
   "source": [
    "model.evaluate(X_test, y_test)"
   ]
  },
  {
   "cell_type": "markdown",
   "metadata": {},
   "source": [
    "> **Question 1** : It is not so bad! But try to increase the number of hidden neuron in the model (D1) to improve the test accuracy.\n",
    "\n",
    "> **Question 2** : Ok, we use only 400 images. Increase their number and verify that the test accuracy is improved.\n",
    "\n",
    "> **Question 3** : For fun, add a Dropout layer to your model between the Dense layers. (https://keras.io/layers/core/)"
   ]
  },
  {
   "cell_type": "markdown",
   "metadata": {},
   "source": [
    "### D5 - Focus on one test prediction\n",
    "\n",
    "Making test and evaluation on a large data set is nice for assessment, but what about _a_ given result?\n",
    "\n",
    "The following code performs a label prediction on the image $i$ in the test set:"
   ]
  },
  {
   "cell_type": "code",
   "execution_count": 19,
   "metadata": {
    "collapsed": true
   },
   "outputs": [
    {
     "name": "stdout",
     "output_type": "stream",
     "text": [
      "label propabilities :  [[5.8657486e-02 1.3007552e-03 2.0293583e-06 3.8599253e-02 3.9260773e-05\n",
      "  6.3538522e-07 8.7852591e-01 1.7471998e-03 2.1127453e-02]]\n"
     ]
    }
   ],
   "source": [
    "i = 2000\n",
    "\n",
    "x_t = X_test[i].reshape(1,-1)        # go from (4096) to (1,4096)\n",
    "\n",
    "y_t = model.predict(x_t)             # apply the model on the given input\n",
    "print(\"label propabilities : \", y_t) "
   ]
  },
  {
   "cell_type": "markdown",
   "metadata": {},
   "source": [
    "> **Complete the following line** which should print the true label from ```y_test``` and the predicted one from ```y_t```:"
   ]
  },
  {
   "cell_type": "code",
   "execution_count": 20,
   "metadata": {
    "collapsed": true
   },
   "outputs": [
    {
     "name": "stdout",
     "output_type": "stream",
     "text": [
      "true label      :  6\n",
      "0.8785259\n",
      "predicted label :  6\n"
     ]
    }
   ],
   "source": [
    "print( \"true label      : \", y_test[i] ) \n",
    "maximum = np.max(y_t)\n",
    "print(maximum)\n",
    "print( \"predicted label : \",  np.argmax(y_t))   "
   ]
  },
  {
   "cell_type": "markdown",
   "metadata": {},
   "source": [
    "### D6 - Displaying the image is **always** a good idea."
   ]
  },
  {
   "cell_type": "code",
   "execution_count": 22,
   "metadata": {
    "collapsed": true
   },
   "outputs": [
    {
     "data": {
      "text/plain": [
       "Text(0.5, 1.0, 'true: CT-A, predict: CT-A')"
      ]
     },
     "execution_count": 22,
     "metadata": {},
     "output_type": "execute_result"
    },
    {
     "data": {
      "image/png": "[encoded data removed]",
      "text/plain": [
       "<Figure size 432x288 with 1 Axes>"
      ]
     },
     "metadata": {
      "needs_background": "light"
     },
     "output_type": "display_data"
    }
   ],
   "source": [
    "plot_image( X_test[i].reshape(desired_width, desired_height) )\n",
    "plt.title(\"true: \" + rev_med_view[y_test[i]] + \", predict: \" + rev_med_view[np.argmax(y_t)])"
   ]
  },
  {
   "cell_type": "markdown",
   "metadata": {},
   "source": [
    "### D7 - See the model architecture"
   ]
  },
  {
   "cell_type": "code",
   "execution_count": 23,
   "metadata": {
    "collapsed": true
   },
   "outputs": [
    {
     "name": "stdout",
     "output_type": "stream",
     "text": [
      "_________________________________________________________________\n",
      "Layer (type)                 Output Shape              Param #   \n",
      "=================================================================\n",
      "dense (Dense)                (None, 96)                393312    \n",
      "_________________________________________________________________\n",
      "dense_1 (Dense)              (None, 9)                 873       \n",
      "=================================================================\n",
      "Total params: 394,185\n",
      "Trainable params: 394,185\n",
      "Non-trainable params: 0\n",
      "_________________________________________________________________\n"
     ]
    }
   ],
   "source": [
    "model.summary()"
   ]
  },
  {
   "cell_type": "markdown",
   "metadata": {},
   "source": [
    "### D8 - Save the model weights and close the session"
   ]
  },
  {
   "cell_type": "code",
   "execution_count": 24,
   "metadata": {
    "collapsed": true
   },
   "outputs": [],
   "source": [
    "model.save_weights('my_simple_Keras_weights.h5')\n",
    "model.save('my_simple_Keras_model.h5')"
   ]
  },
  {
   "cell_type": "code",
   "execution_count": 25,
   "metadata": {
    "collapsed": true,
    "scrolled": true
   },
   "outputs": [],
   "source": [
    "sess.close() # close de session"
   ]
  },
  {
   "cell_type": "markdown",
   "metadata": {},
   "source": [
    "### D9 - Create a new session and load the weights"
   ]
  },
  {
   "cell_type": "code",
   "execution_count": 26,
   "metadata": {
    "collapsed": true
   },
   "outputs": [
    {
     "name": "stdout",
     "output_type": "stream",
     "text": [
      "_________________________________________________________________\n",
      "Layer (type)                 Output Shape              Param #   \n",
      "=================================================================\n",
      "dense (Dense)                (None, 96)                393312    \n",
      "_________________________________________________________________\n",
      "dense_1 (Dense)              (None, 9)                 873       \n",
      "=================================================================\n",
      "Total params: 394,185\n",
      "Trainable params: 394,185\n",
      "Non-trainable params: 0\n",
      "_________________________________________________________________\n",
      "20914/20914 [==============================] - 1s 48us/step\n"
     ]
    },
    {
     "data": {
      "text/plain": [
       "[0.1669197944740589, 0.9728411590322272]"
      ]
     },
     "execution_count": 26,
     "metadata": {},
     "output_type": "execute_result"
    }
   ],
   "source": [
    "loaded_model = tf.keras.models.load_model('my_simple_Keras_model.h5')\n",
    "loaded_model.summary()\n",
    "\n",
    "loaded_model.evaluate(X_test, y_test)\n",
    "\n",
    "\n",
    "# The following lines only save the weights and not the model nor optimizer\n",
    "#read_model = tf.keras.models.Sequential([\n",
    "#  tf.keras.layers.Dense(16, input_shape=(image_size,) , activation=tf.nn.relu ),  # a fully-connected layer with 16 hidden units\n",
    "#  tf.keras.layers.Dense(9, activation=tf.nn.softmax)\n",
    "#])\n",
    "#read_model.compile(optimizer='adam',                        # For optimizers' list and parameters see: https://keras.io/optimizers/ \n",
    "#              loss='sparse_categorical_crossentropy',  # list of loss functions: https://keras.io/losses/\n",
    "#              metrics=['accuracy'])    \n",
    "#read_model.load_weights('my_simple_Keras_weights.h5', by_name=True )\n",
    "#read_model.summary()\n",
    "#read_model.evaluate(X_test, y_test)"
   ]
  },
  {
   "cell_type": "markdown",
   "metadata": {},
   "source": [
    "### D10 - Watch learning curves\n",
    "\n",
    "The following lines allow you to train and to display accuracy and loss evolution across iterations.\n",
    "> **Add your model and create a session to make it working**"
   ]
  },
  {
   "cell_type": "code",
   "execution_count": 27,
   "metadata": {
    "collapsed": true
   },
   "outputs": [
    {
     "data": {
      "image/png": "[encoded data removed]",
      "text/plain": [
       "<Figure size 1500x500 with 1 Axes>"
      ]
     },
     "metadata": {
      "needs_background": "light"
     },
     "output_type": "display_data"
    },
    {
     "data": {
      "image/png": "[encoded data removed]",
      "text/plain": [
       "<Figure size 1500x800 with 1 Axes>"
      ]
     },
     "metadata": {
      "needs_background": "light"
     },
     "output_type": "display_data"
    }
   ],
   "source": [
    "### COMPLETE HERE ####\n",
    "#model = ...\n",
    "\n",
    "model = tf.keras.models.load_model('my_simple_Keras_model.h5')\n",
    "\n",
    "### END HERE ###\n",
    "\n",
    "# train \n",
    "history = model.fit(X_train, y_train, validation_split=0.25, epochs=50, batch_size=16, verbose=0)\n",
    "\n",
    "\n",
    "# Plot training & validation accuracy values\n",
    "plt.figure(figsize=(15,5), dpi=100)\n",
    "plt.subplot(1, 2 ,1)\n",
    "plt.plot(history.history['acc'], label=\"train\")\n",
    "plt.plot(history.history['val_acc'], label=\"valid\")\n",
    "plt.title('Model accuracy')\n",
    "plt.ylabel('Accuracy')\n",
    "plt.xlabel('Epoch')\n",
    "plt.legend( )\n",
    "plt.show()\n",
    "\n",
    "\n",
    "# Plot training & validation loss values\n",
    "plt.figure(figsize=(15,8), dpi=100)\n",
    "plt.subplot(1, 2 ,2)\n",
    "plt.plot(history.history['loss'], label=\"train\")\n",
    "plt.plot(history.history['val_loss'], label=\"valid\")\n",
    "plt.title('Model loss')\n",
    "plt.ylabel('Loss')\n",
    "plt.xlabel('Epoch')\n",
    "plt.legend( )\n",
    "plt.show()"
   ]
  },
  {
   "cell_type": "markdown",
   "metadata": {},
   "source": [
    "> **Change the training parameters and try to see an overfitting effect**\n",
    "\n",
    "> Tensorflow use Tensorboard to display such curves during the training"
   ]
  },
  {
   "cell_type": "markdown",
   "metadata": {},
   "source": [
    " "
   ]
  },
  {
   "cell_type": "markdown",
   "metadata": {},
   "source": [
    "# E - Convolutional Neural Network"
   ]
  },
  {
   "cell_type": "markdown",
   "metadata": {},
   "source": [
    "Now we will create a neural network using convolutional layers.\n",
    "\n",
    "Here, two API levels (Keras and TensorFlow) are used to see how you can use them and how you can control everything.\n"
   ]
  },
  {
   "cell_type": "code",
   "execution_count": 28,
   "metadata": {
    "collapsed": true
   },
   "outputs": [],
   "source": [
    "from datetime import datetime\n",
    "\n",
    "\n",
    "height   = desired_height\n",
    "width    = desired_width\n",
    "channels = 1\n",
    "n_inputs = height * width\n",
    "\n",
    "conv1_fmaps  = 8\n",
    "conv1_ksize  = 3\n",
    "conv1_stride = 1\n",
    "conv1_pad    = \"SAME\"\n",
    "\n",
    "conv2_fmaps  = 16\n",
    "conv2_ksize  = 3\n",
    "conv2_stride = 2\n",
    "conv2_pad    = \"SAME\"\n",
    "\n",
    "pool3_fmaps  = conv2_fmaps\n",
    "\n",
    "n_fc1     = 16\n",
    "n_outputs = 9\n",
    "\n",
    "if 'sess' in locals():     # this code prevent creating many intance of\n",
    "    tf.reset_default_graph()\n",
    "    sess.close()           # tensorflow in memory (that can cause crashes)\n",
    "\n",
    "\n",
    "with tf.name_scope(\"inputs\"):\n",
    "    X = tf.placeholder(tf.float32, shape=[None, n_inputs], name=\"X\")\n",
    "    X_reshaped = tf.reshape(X, shape=[-1, height, width, channels])\n",
    "    y = tf.placeholder(tf.int32, shape=[None], name=\"y\")\n",
    "\n",
    "\n",
    "conv1 = tf.keras.layers.Conv2D(filters=conv1_fmaps, kernel_size=conv1_ksize,\n",
    "                           strides=conv1_stride, padding=conv1_pad,\n",
    "                           activation=tf.nn.relu, name=\"conv1\")(X_reshaped)\n",
    "\n",
    "# Fully Tensorflow code \n",
    "#conv1 = tf.nn.conv2d(\n",
    "#    X_reshaped,\n",
    "#    tf.Variable(tf.random_normal([conv1_ksize, conv1_ksize, 1, conv1_fmaps])),\n",
    "#    strides=[1, conv1_stride, conv1_stride, 1],\n",
    "#    padding=conv1_pad,\n",
    "#    name=\"conv1\")\n",
    "#conv1 = tf.nn.bias_add(conv1, tf.Variable(tf.random_normal([conv1_fmaps])))\n",
    "#conv1 = tf.nn.relu(conv1)\n",
    "\n",
    "\n",
    "\n",
    "conv2 = tf.keras.layers.Convolution2D(filters=conv2_fmaps, kernel_size=conv2_ksize,\n",
    "                         strides=conv2_stride, padding=conv2_pad,\n",
    "                         activation=tf.nn.relu, name=\"conv2\")(conv1)\n",
    "\n",
    "\n",
    "with tf.name_scope(\"pool3\"):\n",
    "    pool3 = tf.nn.max_pool(conv2, ksize=[1, 2, 2, 1], strides=[1, 2, 2, 1], padding=\"VALID\")\n",
    "    shape_pool3 = pool3.get_shape()  \n",
    "    pool3_flat = tf.reshape(pool3, shape=[-1, pool3_fmaps * shape_pool3[1] * shape_pool3[2] ])\n",
    "\n",
    "with tf.name_scope(\"fc1\"):\n",
    "    fc1 = tf.keras.layers.Dense(n_fc1, activation=tf.nn.relu, name=\"fc1\")(pool3_flat)\n",
    "\n",
    "with tf.name_scope(\"output\"):\n",
    "    logits = tf.keras.layers.Dense( n_outputs, name=\"output\")(fc1)\n",
    "    Y_proba = tf.nn.softmax(logits, name=\"Y_proba\")\n",
    "\n",
    "with tf.name_scope(\"train\"):\n",
    "    xentropy = tf.nn.sparse_softmax_cross_entropy_with_logits(logits=logits, labels=y)\n",
    "    loss = tf.reduce_mean(xentropy)\n",
    "    optimizer = tf.train.AdamOptimizer()\n",
    "    training_op = optimizer.minimize(loss)\n",
    "\n",
    "with tf.name_scope(\"eval\"):\n",
    "    correct = tf.nn.in_top_k(logits, y, 1)\n",
    "    accuracy = tf.reduce_mean(tf.cast(correct, tf.float32))\n",
    "\n",
    "with tf.name_scope(\"init_and_save\"):\n",
    "    init = tf.global_variables_initializer()\n",
    "    saver = tf.train.Saver()\n"
   ]
  },
  {
   "cell_type": "code",
   "execution_count": 29,
   "metadata": {
    "collapsed": true
   },
   "outputs": [],
   "source": [
    "\n",
    "\n",
    "accuracy_summary = tf.summary.scalar('Accuracy', accuracy)\n",
    "loss_summary = tf.summary.scalar('loss', loss)\n",
    "\n"
   ]
  },
  {
   "cell_type": "markdown",
   "metadata": {},
   "source": [
    "We check how the input size changes at each layer."
   ]
  },
  {
   "cell_type": "code",
   "execution_count": 30,
   "metadata": {
    "collapsed": true
   },
   "outputs": [
    {
     "name": "stdout",
     "output_type": "stream",
     "text": [
      "conv1  (?, 64, 64, 8)\n",
      "conv2  (?, 32, 32, 16)\n",
      "pool3  (?, 16, 16, 16)\n",
      "pool3_flat  (?, 4096)\n"
     ]
    }
   ],
   "source": [
    "print(\"conv1 \", conv1.get_shape())\n",
    "print(\"conv2 \", conv2.get_shape())\n",
    "print(\"pool3 \", pool3.get_shape())\n",
    "print(\"pool3_flat \", pool3_flat.get_shape())"
   ]
  },
  {
   "cell_type": "markdown",
   "metadata": {},
   "source": [
    "TensorFlow is linked to a board able to display many informations about the graph and the training curves.\n",
    "You can launch TensorBoard using the link at the bottom of the frame:\n",
    "\n",
    "![Figure 1](./images_TP4/TensorBoard.png)"
   ]
  },
  {
   "cell_type": "markdown",
   "metadata": {},
   "source": [
    "### E1 - Dealing with batch sizes\n",
    "\n",
    "A commonly used function to shuffle batches accross epochs:"
   ]
  },
  {
   "cell_type": "code",
   "execution_count": 31,
   "metadata": {
    "collapsed": true
   },
   "outputs": [],
   "source": [
    "def shuffle_batch(X, y, batch_size):\n",
    "    rnd_idx = np.random.permutation(len(X))\n",
    "    n_batches = len(X) // batch_size\n",
    "    for batch_idx in np.array_split(rnd_idx, n_batches):\n",
    "        X_batch, y_batch = X[batch_idx], y[batch_idx]\n",
    "        yield X_batch, y_batch"
   ]
  },
  {
   "cell_type": "markdown",
   "metadata": {},
   "source": [
    "### E2 - Let's train!\n",
    "\n",
    "We use the validation dataset to check overfitting"
   ]
  },
  {
   "cell_type": "code",
   "execution_count": 32,
   "metadata": {
    "collapsed": true
   },
   "outputs": [
    {
     "name": "stdout",
     "output_type": "stream",
     "text": [
      "0 Last batch accuracy: 0.38333333 Validation accuracy: 0.375\n",
      "1 Last batch accuracy: 0.35833332 Validation accuracy: 0.35\n",
      "2 Last batch accuracy: 0.425 Validation accuracy: 0.325\n",
      "3 Last batch accuracy: 0.35833332 Validation accuracy: 0.325\n",
      "4 Last batch accuracy: 0.425 Validation accuracy: 0.35\n",
      "5 Last batch accuracy: 0.41666666 Validation accuracy: 0.375\n",
      "6 Last batch accuracy: 0.45833334 Validation accuracy: 0.375\n",
      "7 Last batch accuracy: 0.43333334 Validation accuracy: 0.35\n",
      "8 Last batch accuracy: 0.725 Validation accuracy: 0.625\n",
      "9 Last batch accuracy: 0.7583333 Validation accuracy: 0.625\n",
      "10 Last batch accuracy: 0.6666667 Validation accuracy: 0.725\n",
      "11 Last batch accuracy: 0.8 Validation accuracy: 0.75\n",
      "12 Last batch accuracy: 0.81666666 Validation accuracy: 0.75\n",
      "13 Last batch accuracy: 0.875 Validation accuracy: 0.9\n",
      "14 Last batch accuracy: 0.9 Validation accuracy: 0.925\n",
      "15 Last batch accuracy: 0.94166666 Validation accuracy: 0.925\n",
      "16 Last batch accuracy: 0.9583333 Validation accuracy: 0.925\n",
      "17 Last batch accuracy: 0.93333334 Validation accuracy: 0.95\n",
      "18 Last batch accuracy: 0.975 Validation accuracy: 0.925\n",
      "19 Last batch accuracy: 0.96666664 Validation accuracy: 0.95\n",
      "20 Last batch accuracy: 0.9916667 Validation accuracy: 0.925\n",
      "21 Last batch accuracy: 0.98333335 Validation accuracy: 0.95\n",
      "22 Last batch accuracy: 0.9916667 Validation accuracy: 0.95\n",
      "23 Last batch accuracy: 1.0 Validation accuracy: 0.975\n",
      "24 Last batch accuracy: 0.9916667 Validation accuracy: 0.975\n",
      "25 Last batch accuracy: 1.0 Validation accuracy: 0.975\n",
      "26 Last batch accuracy: 0.9916667 Validation accuracy: 0.975\n",
      "27 Last batch accuracy: 0.9916667 Validation accuracy: 1.0\n",
      "28 Last batch accuracy: 0.9916667 Validation accuracy: 0.975\n",
      "29 Last batch accuracy: 0.98333335 Validation accuracy: 0.95\n",
      "30 Last batch accuracy: 0.98333335 Validation accuracy: 0.975\n",
      "31 Last batch accuracy: 0.9916667 Validation accuracy: 0.975\n",
      "32 Last batch accuracy: 0.9916667 Validation accuracy: 0.95\n",
      "33 Last batch accuracy: 1.0 Validation accuracy: 0.95\n",
      "34 Last batch accuracy: 0.98333335 Validation accuracy: 0.95\n",
      "35 Last batch accuracy: 0.98333335 Validation accuracy: 0.975\n",
      "36 Last batch accuracy: 1.0 Validation accuracy: 0.975\n",
      "37 Last batch accuracy: 1.0 Validation accuracy: 0.975\n",
      "38 Last batch accuracy: 1.0 Validation accuracy: 0.975\n",
      "39 Last batch accuracy: 1.0 Validation accuracy: 0.975\n",
      "40 Last batch accuracy: 1.0 Validation accuracy: 0.975\n",
      "41 Last batch accuracy: 1.0 Validation accuracy: 0.95\n",
      "42 Last batch accuracy: 1.0 Validation accuracy: 0.975\n",
      "43 Last batch accuracy: 1.0 Validation accuracy: 0.975\n",
      "44 Last batch accuracy: 1.0 Validation accuracy: 0.95\n",
      "45 Last batch accuracy: 1.0 Validation accuracy: 0.975\n",
      "46 Last batch accuracy: 1.0 Validation accuracy: 0.975\n",
      "47 Last batch accuracy: 1.0 Validation accuracy: 0.975\n",
      "48 Last batch accuracy: 1.0 Validation accuracy: 0.975\n",
      "49 Last batch accuracy: 1.0 Validation accuracy: 0.975\n",
      "50 Last batch accuracy: 1.0 Validation accuracy: 0.975\n",
      "51 Last batch accuracy: 1.0 Validation accuracy: 0.975\n",
      "52 Last batch accuracy: 1.0 Validation accuracy: 0.975\n",
      "53 Last batch accuracy: 1.0 Validation accuracy: 0.975\n",
      "54 Last batch accuracy: 1.0 Validation accuracy: 0.975\n",
      "55 Last batch accuracy: 1.0 Validation accuracy: 0.975\n",
      "56 Last batch accuracy: 1.0 Validation accuracy: 0.975\n",
      "57 Last batch accuracy: 1.0 Validation accuracy: 0.975\n",
      "58 Last batch accuracy: 1.0 Validation accuracy: 0.975\n",
      "59 Last batch accuracy: 1.0 Validation accuracy: 0.975\n",
      "60 Last batch accuracy: 1.0 Validation accuracy: 0.975\n",
      "61 Last batch accuracy: 1.0 Validation accuracy: 0.975\n",
      "62 Last batch accuracy: 1.0 Validation accuracy: 0.975\n",
      "63 Last batch accuracy: 1.0 Validation accuracy: 0.975\n",
      "64 Last batch accuracy: 1.0 Validation accuracy: 0.975\n",
      "65 Last batch accuracy: 1.0 Validation accuracy: 0.975\n",
      "66 Last batch accuracy: 1.0 Validation accuracy: 0.975\n",
      "67 Last batch accuracy: 1.0 Validation accuracy: 0.975\n",
      "68 Last batch accuracy: 1.0 Validation accuracy: 0.975\n",
      "69 Last batch accuracy: 1.0 Validation accuracy: 0.975\n",
      "70 Last batch accuracy: 1.0 Validation accuracy: 0.975\n",
      "71 Last batch accuracy: 1.0 Validation accuracy: 0.975\n",
      "72 Last batch accuracy: 1.0 Validation accuracy: 0.975\n",
      "73 Last batch accuracy: 1.0 Validation accuracy: 0.975\n",
      "74 Last batch accuracy: 1.0 Validation accuracy: 0.975\n",
      "75 Last batch accuracy: 1.0 Validation accuracy: 0.975\n",
      "76 Last batch accuracy: 1.0 Validation accuracy: 0.975\n",
      "77 Last batch accuracy: 1.0 Validation accuracy: 0.975\n",
      "78 Last batch accuracy: 1.0 Validation accuracy: 0.975\n",
      "79 Last batch accuracy: 1.0 Validation accuracy: 0.975\n",
      "80 Last batch accuracy: 1.0 Validation accuracy: 0.975\n",
      "81 Last batch accuracy: 1.0 Validation accuracy: 0.975\n",
      "82 Last batch accuracy: 1.0 Validation accuracy: 0.975\n",
      "83 Last batch accuracy: 1.0 Validation accuracy: 0.975\n",
      "84 Last batch accuracy: 1.0 Validation accuracy: 0.975\n",
      "85 Last batch accuracy: 1.0 Validation accuracy: 0.975\n",
      "86 Last batch accuracy: 1.0 Validation accuracy: 0.975\n",
      "87 Last batch accuracy: 1.0 Validation accuracy: 0.975\n",
      "88 Last batch accuracy: 1.0 Validation accuracy: 0.975\n",
      "89 Last batch accuracy: 1.0 Validation accuracy: 0.975\n",
      "90 Last batch accuracy: 1.0 Validation accuracy: 0.975\n",
      "91 Last batch accuracy: 1.0 Validation accuracy: 0.975\n",
      "92 Last batch accuracy: 1.0 Validation accuracy: 0.975\n",
      "93 Last batch accuracy: 1.0 Validation accuracy: 0.975\n",
      "94 Last batch accuracy: 1.0 Validation accuracy: 0.975\n",
      "95 Last batch accuracy: 1.0 Validation accuracy: 0.975\n",
      "96 Last batch accuracy: 1.0 Validation accuracy: 0.975\n",
      "97 Last batch accuracy: 1.0 Validation accuracy: 0.975\n",
      "98 Last batch accuracy: 1.0 Validation accuracy: 0.975\n",
      "99 Last batch accuracy: 1.0 Validation accuracy: 0.975\n"
     ]
    }
   ],
   "source": [
    "n_epochs = 100\n",
    "batch_size = 100 #100\n",
    "n_batches = len(X_train) // batch_size\n",
    "\n",
    "now = datetime.utcnow().strftime(\"%Y%m%d%H%M%S\")\n",
    "root_logdir = \"tf_logs\"\n",
    "logdir = \"{}/run-{}/\".format(root_logdir, now)\n",
    "file_writer = tf.summary.FileWriter(logdir, tf.get_default_graph())\n",
    "\n",
    "\n",
    "with tf.Session() as sess:\n",
    "    init.run()\n",
    "    for epoch in range(n_epochs):\n",
    "        batch_index = 0\n",
    "        for X_batch, y_batch in shuffle_batch(X_train, y_train, batch_size):          \n",
    "            if batch_index % 10 == 0:\n",
    "                summary_acc_str  = accuracy_summary.eval(feed_dict={X: X_batch, y: y_batch})\n",
    "                step = epoch * n_batches + batch_index\n",
    "                file_writer.add_summary(summary_acc_str, step)\n",
    "            sess.run(training_op, feed_dict={X: X_batch, y: y_batch})\n",
    "            batch_index += 1\n",
    "            \n",
    "        acc_batch = accuracy.eval(feed_dict={X: X_batch, y: y_batch})\n",
    "        acc_valid = accuracy.eval(feed_dict={X: X_valid, y: y_valid})\n",
    "        print(epoch, \"Last batch accuracy:\", acc_batch, \"Validation accuracy:\", acc_valid)\n",
    "\n",
    "        save_path = saver.save(sess, \"./my_cnn_model\")\n",
    "file_writer.close()"
   ]
  },
  {
   "cell_type": "code",
   "execution_count": null,
   "metadata": {
    "collapsed": true
   },
   "outputs": [],
   "source": []
  },
  {
   "cell_type": "markdown",
   "metadata": {},
   "source": [
    "The number of trainable parameters can be obtained by the following:\n",
    "  > **Question** compare with MLP network."
   ]
  },
  {
   "cell_type": "code",
   "execution_count": 52,
   "metadata": {
    "collapsed": true
   },
   "outputs": [
    {
     "data": {
      "text/plain": [
       "Dimension(66953)"
      ]
     },
     "execution_count": 52,
     "metadata": {},
     "output_type": "execute_result"
    }
   ],
   "source": [
    "np.sum([np.prod(v.shape) for v in tf.trainable_variables()])"
   ]
  },
  {
   "cell_type": "markdown",
   "metadata": {},
   "source": [
    "> Can you explain why it is not equal to the number of trainable parameters for the same model on PyTorch?"
   ]
  },
  {
   "cell_type": "code",
   "execution_count": null,
   "metadata": {
    "collapsed": true
   },
   "outputs": [],
   "source": []
  }
 ],
 "metadata": {
  "kernelspec": {
   "display_name": "Python 3",
   "language": "python",
   "name": "python3"
  },
  "language_info": {
   "codemirror_mode": {
    "name": "ipython",
    "version": 3
   },
   "file_extension": ".py",
   "mimetype": "text/x-python",
   "name": "python",
   "nbconvert_exporter": "python",
   "pygments_lexer": "ipython3",
   "version": "3.6.5"
  },
  "nav_menu": {},
  "toc": {
   "navigate_menu": true,
   "number_sections": true,
   "sideBar": true,
   "threshold": 6,
   "toc_cell": false,
   "toc_section_display": "block",
   "toc_window_display": false
  }
 },
 "nbformat": 4,
 "nbformat_minor": 2
}
