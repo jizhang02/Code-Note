{
 "cells": [
  {
   "cell_type": "markdown",
   "metadata": {
    "pycharm": {
     "metadata": false
    }
   },
   "source": [
    "[LTS5]: https://lts5www.epfl.ch/\n",
    "[Perdios et al.]: https://ieeexplore.ieee.org/abstract/document/8580183\n",
    "\n",
    "## Conclusion\n",
    "\n",
    "I this hands-on session we used deep learning to augment the quality of\n",
    "LQ US images reconstructed from a single pulse-echo measurement. We trained \n",
    "a state-of-the art neural network architecture, adapted to the given\n",
    "problem, with a highly diverse simulated dataset. We found that\n",
    "the method can seems promising. \n",
    "\n",
    "We saw that augmenting the size of the training dataset, has a significant \n",
    "impact on the reconstruction quality achieved by the neural network. We also\n",
    "showed that applying the neural network on the RF images and not the maybe more\n",
    "intuitive B-Mode images leads to much better behavior. From this we concluded \n",
    "that, generally, it is really not wise to trough away information and thus provide\n",
    "the NN with all the relevant information available. We further saw that \n",
    "augmenting the architecture capacity (number of parameters) can lead to quality \n",
    "improvements, if the necessary amount of data is available to train it.\n",
    "\n",
    "Additionally, we could hopefully reinforce some of the deep learning basics you \n",
    "may already have known, such as choosing a proper learning rate and the \n",
    "importance of having a good validation and test pipeline.\n",
    "\n",
    "In our laboratory ([LTS5][LTS5]) at EPFL, we used an even larger dataset\n",
    "on even larger versions of the residual U-Net we used in this session.\n",
    "We trained on larger images, which increases the complexity of the problem \n",
    "and because of the general increase of complexity, we had to train our \n",
    "networks for several days each. Below you can find example results on\n",
    "simulated data (Top) (different simulator than the one used to generate t\n",
    "raining images), and on an in-vivo carotid artery (bottom). \n",
    "\n",
    "![](figures/picmus.png)\n",
    "\n",
    "![](figures/carotid.png)\n",
    "\n",
    "We are quite happy with the results :). If you're interested, more details can \n",
    "be found in [Perdios et al.][Perdios et al.] or you may simply ask us. We hope \n",
    "you could learn something and are now very enthusiastic about applying deep \n",
    "learning to your everyday problems.\n",
    "\n",
    "Thank you for attending this session!\n",
    "\n"
   ]
  }
 ],
 "metadata": {
  "kernelspec": {
   "display_name": "Python 3",
   "language": "python",
   "name": "python3"
  },
  "language_info": {
   "codemirror_mode": {
    "name": "ipython",
    "version": 3
   },
   "file_extension": ".py",
   "mimetype": "text/x-python",
   "name": "python",
   "nbconvert_exporter": "python",
   "pygments_lexer": "ipython3",
   "version": "3.6.5"
  },
  "stem_cell": {
   "cell_type": "raw",
   "metadata": {
    "pycharm": {
     "metadata": false
    }
   },
   "source": ""
  }
 },
 "nbformat": 4,
 "nbformat_minor": 2
}
