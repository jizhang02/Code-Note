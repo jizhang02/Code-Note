{
 "cells": [
  {
   "cell_type": "markdown",
   "metadata": {
    "pycharm": {
     "metadata": false,
     "name": "#%% md\n"
    }
   },
   "source": [
    "# [Deep learning for medical imaging school 2019][dlss]\n",
    "[INSA], Lyon, France\n",
    "\n",
    "[dlss]: https://deepimaging2019.sciencesconf.org\n",
    "[insa]: https://www.insa-lyon.fr/en/\n",
    "\n",
    "# Hands-on session 4: Medical ultrasound image reconstruction by deep learning\n",
    "Dimitris Perdios, Manuel Vonlanthen, Florian Martinez, and Jean-Philippe Thiran\n",
    "\n",
    "[Signal Processing Laboratory (LTS5)][lts5],\n",
    "[École Polytechnique Fédérale de Lausanne (EPFL)][epfl],\n",
    "Switzerland\n",
    "\n",
    "[lts5]: https://lts5www.epfl.ch\n",
    "[epfl-logo]: https://www.epfl.ch/about/news-and-media/wp-content/themes/wp-theme-2018/assets/svg/epfl-logo.svg?refresh=now\n",
    "\n",
    "> In this hands-on session you will learn how deep learning can be used to\n",
    "achieve high frame-rates in medical ultrasound by significantly increasing\n",
    "the quality of images reconstructed from a single pulse-echo measurement.\n",
    "The hands-on session puts a strong emphasize on the dataset that is used for\n",
    "properly training your neural network for this task.\n",
    "\n",
    "## Outline\n",
    "* [Floyd datasets set-up][nb0]\n",
    "* [Introduction][nb1]\n",
    "* [Data exploration][nb2]\n",
    "* [First training][nb3]\n",
    "* [Additional trainings and analyses][nb4]\n",
    "* [Conclusion][nb5]\n",
    "\n",
    "[nb0]: dlssus_floyd_setup.ipynb\n",
    "[nb1]: dlssus_intro.ipynb\n",
    "[nb2]: dlssus_data_exploration.ipynb\n",
    "[nb3]: dlssus_first_training.ipynb\n",
    "[nb4]: dlssus_additional_trainings.ipynb\n",
    "[nb5]: dlssus_conclusion.ipynb\n",
    "\n",
    "![][epfl-logo]\n",
    "\n",
    "[epfl]: https://www.epfl.ch/en/home/\n"
   ]
  }
 ],
 "metadata": {
  "kernelspec": {
   "display_name": "Python 3",
   "language": "python",
   "name": "python3"
  },
  "language_info": {
   "codemirror_mode": {
    "name": "ipython",
    "version": 3
   },
   "file_extension": ".py",
   "mimetype": "text/x-python",
   "name": "python",
   "nbconvert_exporter": "python",
   "pygments_lexer": "ipython3",
   "version": "3.6.5"
  },
  "stem_cell": {
   "cell_type": "raw",
   "metadata": {
    "pycharm": {
     "metadata": false
    }
   },
   "source": ""
  }
 },
 "nbformat": 4,
 "nbformat_minor": 2
}
