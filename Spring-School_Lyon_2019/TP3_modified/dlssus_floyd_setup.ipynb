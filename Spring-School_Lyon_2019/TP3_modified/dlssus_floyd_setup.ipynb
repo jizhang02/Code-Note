{
 "cells": [
  {
   "cell_type": "markdown",
   "metadata": {
    "pycharm": {
     "metadata": false,
     "name": "#%% md\n"
    }
   },
   "source": [
    "## Mount `dlssus` dataset\n",
    "\n",
    "### Procedure\n",
    "1. On the right pane, below **Data** click on *Search data...*\n",
    "1. Type `dlssus` and click on `ge-insa-lyon/datasets/dlssus/1`\n",
    "1. Use the default **Mount directory** which will result in a directory name\n",
    "`dlssus` mounted on `/floyd/input/dlssus`"
   ]
  },
  {
   "cell_type": "markdown",
   "metadata": {
    "pycharm": {
     "metadata": false
    }
   },
   "source": [
    "Let's check that it is properly mounted and explore the structure\n",
    "For this we will use the `os` Python package.\n",
    "First let's define the base dataset directory using the `os.path.join()`\n",
    "command"
   ]
  },
  {
   "cell_type": "code",
   "execution_count": 1,
   "metadata": {
    "pycharm": {
     "is_executing": false,
     "metadata": false,
     "name": "#%%\n"
    }
   },
   "outputs": [],
   "source": [
    "# Import `os` package\n",
    "import os"
   ]
  },
  {
   "cell_type": "code",
   "execution_count": 2,
   "metadata": {
    "pycharm": {
     "is_executing": false,
     "metadata": false,
     "name": "#%%\n"
    }
   },
   "outputs": [
    {
     "name": "stdout",
     "output_type": "stream",
     "text": [
      "/floyd/input/dlssus\n"
     ]
    }
   ],
   "source": [
    "# Create the base dataset directory path\n",
    "base_dir = os.path.join('/floyd', 'input', 'dlssus')\n",
    "print(base_dir)"
   ]
  },
  {
   "cell_type": "markdown",
   "metadata": {
    "pycharm": {
     "metadata": false
    }
   },
   "source": [
    "We can now explore a bit what are the directories and files present under\n",
    "`/floyd/input/dlssus` and define the `datasets` and `trainings` directory paths"
   ]
  },
  {
   "cell_type": "code",
   "execution_count": 3,
   "metadata": {
    "pycharm": {
     "is_executing": false,
     "metadata": false,
     "name": "#%%\n"
    }
   },
   "outputs": [
    {
     "name": "stdout",
     "output_type": "stream",
     "text": [
      "['trainings', 'datasets']\n"
     ]
    }
   ],
   "source": [
    "print(os.listdir(base_dir))"
   ]
  },
  {
   "cell_type": "code",
   "execution_count": 4,
   "metadata": {
    "pycharm": {
     "is_executing": false,
     "metadata": false,
     "name": "#%%\n"
    }
   },
   "outputs": [
    {
     "name": "stdout",
     "output_type": "stream",
     "text": [
      "Datasets directory path:  /floyd/input/dlssus/datasets\n",
      "Trainings directory path:  /floyd/input/dlssus/trainings\n"
     ]
    }
   ],
   "source": [
    "data_dir = os.path.join(base_dir, 'datasets')\n",
    "train_dir = os.path.join(base_dir, 'trainings')\n",
    "print('Datasets directory path: ', data_dir)\n",
    "print('Trainings directory path: ', train_dir)"
   ]
  },
  {
   "cell_type": "markdown",
   "metadata": {
    "pycharm": {
     "metadata": false,
     "name": "#%% md\n"
    }
   },
   "source": [
    "We can dig a bit further, say within the `trainings` directory."
   ]
  },
  {
   "cell_type": "code",
   "execution_count": 5,
   "metadata": {
    "pycharm": {
     "is_executing": false,
     "metadata": false,
     "name": "#%%\n"
    }
   },
   "outputs": [
    {
     "name": "stdout",
     "output_type": "stream",
     "text": [
      "['usunet_res_small_bm_sn11900_lr0.000400_it0200000_weights.h5', 'usunet_nores_full_rf_sn11900_lr0.000050_it0400000_history.pickle', 'usunet_res_small_rf_sn11900_lr0.000010_it0200000_history.pickle', 'usunet_res_small_rf_sn11900_lr0.010000_it0200000_weights.h5', 'usunet_nores_small_rf_sn11900_lr0.000400_it0200000_weights.h5', 'usunet_res_full_rf_sn11900_lr0.000050_it0400000_weights.h5', 'usunet_res_full_bm_sn11900_lr0.000050_it0400000_history.pickle', 'usunet_res_full_bm_sn11900_lr0.000050_it0400000_weights.h5', 'usunet_res_small_rf_sn11900_lr0.000400_it0200000_history.pickle', 'usunet_res_small_rf_sn00050_lr0.000400_it0200000_weights.h5', 'usunet_res_small_rf_sn11900_lr0.000400_it0200000_weights.h5', 'usunet_res_small_rf_sn06000_lr0.000400_it0200000_history.pickle', 'usunet_res_small_rf_sn11900_lr0.000010_it0200000_weights.h5', 'usunet_res_small_rf_sn01000_lr0.000400_it0200000_history.pickle', 'usunet_res_small_rf_sn00050_lr0.000400_it0200000_history.pickle', 'usunet_res_small_rf_sn01000_lr0.000400_it0200000_weights.h5', 'usunet_res_small_rf_sn00250_lr0.000400_it0200000_history.pickle', 'usunet_res_small_rf_sn00250_lr0.000400_it0200000_weights.h5', 'usunet_nores_full_rf_sn11900_lr0.000050_it0400000_weights.h5', 'usunet_res_full_rf_sn11900_lr0.000050_it0400000_history.pickle', 'usunet_res_small_rf_sn11900_lr0.010000_it0200000_history.pickle', 'usunet_nores_small_rf_sn11900_lr0.000400_it0200000_history.pickle', 'usunet_res_small_rf_sn06000_lr0.000400_it0200000_weights.h5', 'usunet_res_small_bm_sn11900_lr0.000400_it0200000_history.pickle']\n"
     ]
    }
   ],
   "source": [
    "print(os.listdir(train_dir))"
   ]
  },
  {
   "cell_type": "markdown",
   "metadata": {
    "pycharm": {
     "metadata": false,
     "name": "#%% md\n"
    }
   },
   "source": [
    "Well that's not very readable"
   ]
  },
  {
   "cell_type": "code",
   "execution_count": 6,
   "metadata": {
    "pycharm": {
     "is_executing": false,
     "metadata": false,
     "name": "#%%\n"
    }
   },
   "outputs": [
    {
     "name": "stdout",
     "output_type": "stream",
     "text": [
      "usunet_res_small_bm_sn11900_lr0.000400_it0200000_weights.h5\n",
      "usunet_nores_full_rf_sn11900_lr0.000050_it0400000_history.pickle\n",
      "usunet_res_small_rf_sn11900_lr0.000010_it0200000_history.pickle\n",
      "usunet_res_small_rf_sn11900_lr0.010000_it0200000_weights.h5\n",
      "usunet_nores_small_rf_sn11900_lr0.000400_it0200000_weights.h5\n",
      "usunet_res_full_rf_sn11900_lr0.000050_it0400000_weights.h5\n",
      "usunet_res_full_bm_sn11900_lr0.000050_it0400000_history.pickle\n",
      "usunet_res_full_bm_sn11900_lr0.000050_it0400000_weights.h5\n",
      "usunet_res_small_rf_sn11900_lr0.000400_it0200000_history.pickle\n",
      "usunet_res_small_rf_sn00050_lr0.000400_it0200000_weights.h5\n",
      "usunet_res_small_rf_sn11900_lr0.000400_it0200000_weights.h5\n",
      "usunet_res_small_rf_sn06000_lr0.000400_it0200000_history.pickle\n",
      "usunet_res_small_rf_sn11900_lr0.000010_it0200000_weights.h5\n",
      "usunet_res_small_rf_sn01000_lr0.000400_it0200000_history.pickle\n",
      "usunet_res_small_rf_sn00050_lr0.000400_it0200000_history.pickle\n",
      "usunet_res_small_rf_sn01000_lr0.000400_it0200000_weights.h5\n",
      "usunet_res_small_rf_sn00250_lr0.000400_it0200000_history.pickle\n",
      "usunet_res_small_rf_sn00250_lr0.000400_it0200000_weights.h5\n",
      "usunet_nores_full_rf_sn11900_lr0.000050_it0400000_weights.h5\n",
      "usunet_res_full_rf_sn11900_lr0.000050_it0400000_history.pickle\n",
      "usunet_res_small_rf_sn11900_lr0.010000_it0200000_history.pickle\n",
      "usunet_nores_small_rf_sn11900_lr0.000400_it0200000_history.pickle\n",
      "usunet_res_small_rf_sn06000_lr0.000400_it0200000_weights.h5\n",
      "usunet_res_small_bm_sn11900_lr0.000400_it0200000_history.pickle\n"
     ]
    }
   ],
   "source": [
    "for f in os.listdir(train_dir):\n",
    "    print(f)"
   ]
  },
  {
   "cell_type": "markdown",
   "metadata": {
    "pycharm": {
     "metadata": false,
     "name": "#%% md\n"
    }
   },
   "source": [
    "Still not wonderful, but you can now find a way to sort the list"
   ]
  },
  {
   "cell_type": "code",
   "execution_count": 7,
   "metadata": {
    "pycharm": {
     "is_executing": false,
     "metadata": false,
     "name": "#%%\n"
    }
   },
   "outputs": [
    {
     "name": "stdout",
     "output_type": "stream",
     "text": [
      "usunet_nores_full_rf_sn11900_lr0.000050_it0400000_history.pickle\n",
      "usunet_nores_full_rf_sn11900_lr0.000050_it0400000_weights.h5\n",
      "usunet_nores_small_rf_sn11900_lr0.000400_it0200000_history.pickle\n",
      "usunet_nores_small_rf_sn11900_lr0.000400_it0200000_weights.h5\n",
      "usunet_res_full_bm_sn11900_lr0.000050_it0400000_history.pickle\n",
      "usunet_res_full_bm_sn11900_lr0.000050_it0400000_weights.h5\n",
      "usunet_res_full_rf_sn11900_lr0.000050_it0400000_history.pickle\n",
      "usunet_res_full_rf_sn11900_lr0.000050_it0400000_weights.h5\n",
      "usunet_res_small_bm_sn11900_lr0.000400_it0200000_history.pickle\n",
      "usunet_res_small_bm_sn11900_lr0.000400_it0200000_weights.h5\n",
      "usunet_res_small_rf_sn00050_lr0.000400_it0200000_history.pickle\n",
      "usunet_res_small_rf_sn00050_lr0.000400_it0200000_weights.h5\n",
      "usunet_res_small_rf_sn00250_lr0.000400_it0200000_history.pickle\n",
      "usunet_res_small_rf_sn00250_lr0.000400_it0200000_weights.h5\n",
      "usunet_res_small_rf_sn01000_lr0.000400_it0200000_history.pickle\n",
      "usunet_res_small_rf_sn01000_lr0.000400_it0200000_weights.h5\n",
      "usunet_res_small_rf_sn06000_lr0.000400_it0200000_history.pickle\n",
      "usunet_res_small_rf_sn06000_lr0.000400_it0200000_weights.h5\n",
      "usunet_res_small_rf_sn11900_lr0.000010_it0200000_history.pickle\n",
      "usunet_res_small_rf_sn11900_lr0.000010_it0200000_weights.h5\n",
      "usunet_res_small_rf_sn11900_lr0.000400_it0200000_history.pickle\n",
      "usunet_res_small_rf_sn11900_lr0.000400_it0200000_weights.h5\n",
      "usunet_res_small_rf_sn11900_lr0.010000_it0200000_history.pickle\n",
      "usunet_res_small_rf_sn11900_lr0.010000_it0200000_weights.h5\n"
     ]
    }
   ],
   "source": [
    "train_list = os.listdir(train_dir)\n",
    "train_list.sort()\n",
    "for f in train_list:\n",
    "    print(f)"
   ]
  },
  {
   "cell_type": "markdown",
   "metadata": {
    "pycharm": {
     "metadata": false,
     "name": "#%% md\n"
    }
   },
   "source": [
    "Nicer! Even though it is a computer sorting and could be more human :).\n",
    "We will go back to this later, when we use pre-trained networks!"
   ]
  },
  {
   "cell_type": "markdown",
   "metadata": {
    "pycharm": {
     "metadata": false
    }
   },
   "source": [
    "### Already done? Just go to the [next notebook][next] for some introduction!\n",
    "\n",
    "[next]: dlssus_intro.ipynb\n",
    "\n",
    "Or you can go back to the [outline].\n",
    "\n",
    "[outline]: dlssus_main.ipynb\n"
   ]
  }
 ],
 "metadata": {
  "kernelspec": {
   "display_name": "Python 3",
   "language": "python",
   "name": "python3"
  },
  "language_info": {
   "codemirror_mode": {
    "name": "ipython",
    "version": 3
   },
   "file_extension": ".py",
   "mimetype": "text/x-python",
   "name": "python",
   "nbconvert_exporter": "python",
   "pygments_lexer": "ipython3",
   "version": "3.6.5"
  },
  "stem_cell": {
   "cell_type": "raw",
   "metadata": {
    "pycharm": {
     "metadata": false
    }
   },
   "source": ""
  }
 },
 "nbformat": 4,
 "nbformat_minor": 2
}
